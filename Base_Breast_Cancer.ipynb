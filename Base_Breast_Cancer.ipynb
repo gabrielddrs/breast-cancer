{
  "nbformat": 4,
  "nbformat_minor": 0,
  "metadata": {
    "colab": {
      "provenance": [],
      "gpuType": "T4",
      "authorship_tag": "ABX9TyO8aRhT865nMy1Zyt9//dof",
      "include_colab_link": true
    },
    "kernelspec": {
      "name": "python3",
      "display_name": "Python 3"
    },
    "language_info": {
      "name": "python"
    },
    "accelerator": "GPU"
  },
  "cells": [
    {
      "cell_type": "markdown",
      "metadata": {
        "id": "view-in-github",
        "colab_type": "text"
      },
      "source": [
        "<a href=\"https://colab.research.google.com/github/gabrielddrs/breast-cancer/blob/main/Base_Breast_Cancer.ipynb\" target=\"_parent\"><img src=\"https://colab.research.google.com/assets/colab-badge.svg\" alt=\"Open In Colab\"/></a>"
      ]
    },
    {
      "cell_type": "markdown",
      "source": [
        "#Base Brast Cancer - Classificação Binária"
      ],
      "metadata": {
        "id": "DFXKy3QP_GpN"
      }
    },
    {
      "cell_type": "markdown",
      "source": [
        "## Etapa 1 - Importação das bibliotecas"
      ],
      "metadata": {
        "id": "l9kgwGG1_RlY"
      }
    },
    {
      "cell_type": "code",
      "source": [
        "!pip install -qU scikit-learn"
      ],
      "metadata": {
        "id": "McGWKd8PBBE2",
        "colab": {
          "base_uri": "https://localhost:8080/"
        },
        "outputId": "5184ed9e-e97a-458a-865d-791311c22674"
      },
      "execution_count": 1,
      "outputs": [
        {
          "output_type": "stream",
          "name": "stdout",
          "text": [
            "\u001b[2K     \u001b[90m━━━━━━━━━━━━━━━━━━━━━━━━━━━━━━━━━━━━━━━━\u001b[0m \u001b[32m10.8/10.8 MB\u001b[0m \u001b[31m34.5 MB/s\u001b[0m eta \u001b[36m0:00:00\u001b[0m\n",
            "\u001b[?25h"
          ]
        }
      ]
    },
    {
      "cell_type": "code",
      "source": [
        "import pandas as pd\n",
        "import numpy as np\n",
        "import seaborn as sns\n",
        "from sklearn.model_selection import train_test_split\n",
        "from sklearn.metrics import confusion_matrix, accuracy_score"
      ],
      "metadata": {
        "id": "IIM56crq_u7g"
      },
      "execution_count": 2,
      "outputs": []
    },
    {
      "cell_type": "code",
      "source": [
        "import torch\n",
        "torch.__version__"
      ],
      "metadata": {
        "colab": {
          "base_uri": "https://localhost:8080/",
          "height": 35
        },
        "id": "F4EUPPDeApH5",
        "outputId": "3f97c828-e8f8-4c52-8bcc-124e452aa585"
      },
      "execution_count": 3,
      "outputs": [
        {
          "output_type": "execute_result",
          "data": {
            "text/plain": [
              "'2.0.1+cu118'"
            ],
            "application/vnd.google.colaboratory.intrinsic+json": {
              "type": "string"
            }
          },
          "metadata": {},
          "execution_count": 3
        }
      ]
    },
    {
      "cell_type": "code",
      "source": [
        "import torch.nn as nn"
      ],
      "metadata": {
        "id": "OP1BKfG0Fiy5"
      },
      "execution_count": 4,
      "outputs": []
    },
    {
      "cell_type": "code",
      "source": [
        "from google.colab import drive\n",
        "drive.mount('/content/drive')"
      ],
      "metadata": {
        "colab": {
          "base_uri": "https://localhost:8080/"
        },
        "id": "cpS4dF5vGr9C",
        "outputId": "8fa59233-ec9e-4631-95b0-ccf901e93536"
      },
      "execution_count": 5,
      "outputs": [
        {
          "output_type": "stream",
          "name": "stdout",
          "text": [
            "Mounted at /content/drive\n"
          ]
        }
      ]
    },
    {
      "cell_type": "code",
      "source": [
        "!unzip '/content/drive/MyDrive/cursoDeepLearning/Deep Learing de A à Z com PyTorch.zip' -d '/content/cursoDeepLearning'"
      ],
      "metadata": {
        "colab": {
          "base_uri": "https://localhost:8080/"
        },
        "id": "xRofcoHYG24b",
        "outputId": "7c84f1b4-d5c7-46aa-c91a-4f5003d5728d"
      },
      "execution_count": 6,
      "outputs": [
        {
          "output_type": "stream",
          "name": "stdout",
          "text": [
            "Archive:  /content/drive/MyDrive/cursoDeepLearning/Deep Learing de A à Z com PyTorch.zip\n",
            "   creating: /content/cursoDeepLearning/Bases/\n",
            "  inflating: /content/cursoDeepLearning/Bases/petr4_teste.csv  \n",
            "  inflating: /content/cursoDeepLearning/__MACOSX/Bases/._petr4_teste.csv  \n",
            "  inflating: /content/cursoDeepLearning/Bases/.DS_Store  \n",
            "  inflating: /content/cursoDeepLearning/__MACOSX/Bases/._.DS_Store  \n",
            "  inflating: /content/cursoDeepLearning/Bases/poluicao.csv  \n",
            "  inflating: /content/cursoDeepLearning/__MACOSX/Bases/._poluicao.csv  \n",
            "  inflating: /content/cursoDeepLearning/Bases/personagens.csv  \n",
            "  inflating: /content/cursoDeepLearning/__MACOSX/Bases/._personagens.csv  \n",
            "  inflating: /content/cursoDeepLearning/Bases/autos.csv  \n",
            "  inflating: /content/cursoDeepLearning/Bases/iris.csv  \n",
            "  inflating: /content/cursoDeepLearning/Bases/games.csv  \n",
            "  inflating: /content/cursoDeepLearning/Bases/petr4_treinamento.csv  \n",
            "  inflating: /content/cursoDeepLearning/__MACOSX/Bases/._petr4_treinamento.csv  \n",
            "  inflating: /content/cursoDeepLearning/Bases/entradas_breast.csv  \n",
            "  inflating: /content/cursoDeepLearning/Bases/dataset.zip  \n",
            "  inflating: /content/cursoDeepLearning/__MACOSX/Bases/._dataset.zip  \n",
            "  inflating: /content/cursoDeepLearning/Bases/dataset_personagens.zip  \n",
            "  inflating: /content/cursoDeepLearning/Bases/saidas_breast.csv  \n",
            "   creating: /content/cursoDeepLearning/Slides/\n",
            "  inflating: /content/cursoDeepLearning/Slides/Boas-vindas e conteúdo.pdf  \n",
            "  inflating: /content/cursoDeepLearning/__MACOSX/Slides/._Boas-vindas e conteúdo.pdf  \n",
            "  inflating: /content/cursoDeepLearning/Slides/.DS_Store  \n",
            "  inflating: /content/cursoDeepLearning/__MACOSX/Slides/._.DS_Store  \n",
            "  inflating: /content/cursoDeepLearning/Slides/Outros slides.pdf  \n",
            "  inflating: /content/cursoDeepLearning/__MACOSX/Slides/._Outros slides.pdf  \n",
            "  inflating: /content/cursoDeepLearning/Slides/Formação em Deep Learning com PyTorch e Python.pdf  \n",
            "  inflating: /content/cursoDeepLearning/__MACOSX/Slides/._Formação em Deep Learning com PyTorch e Python.pdf  \n",
            "  inflating: /content/cursoDeepLearning/Slides/Boltzmann machines.pdf  \n",
            "  inflating: /content/cursoDeepLearning/__MACOSX/Slides/._Boltzmann machines.pdf  \n",
            "  inflating: /content/cursoDeepLearning/Slides/Redes neurais recorrentes.pdf  \n",
            "  inflating: /content/cursoDeepLearning/__MACOSX/Slides/._Redes neurais recorrentes.pdf  \n",
            "  inflating: /content/cursoDeepLearning/Slides/Redes neurais artificiais.pdf  \n",
            "  inflating: /content/cursoDeepLearning/__MACOSX/Slides/._Redes neurais artificiais.pdf  \n",
            "  inflating: /content/cursoDeepLearning/Slides/Mapas auto organizáveis.pdf  \n",
            "  inflating: /content/cursoDeepLearning/__MACOSX/Slides/._Mapas auto organizáveis.pdf  \n",
            "  inflating: /content/cursoDeepLearning/Slides/Style Transfer.pdf  \n",
            "  inflating: /content/cursoDeepLearning/__MACOSX/Slides/._Style Transfer.pdf  \n",
            "  inflating: /content/cursoDeepLearning/Slides/Generative adversarial networks.pdf  \n",
            "  inflating: /content/cursoDeepLearning/__MACOSX/Slides/._Generative adversarial networks.pdf  \n",
            "  inflating: /content/cursoDeepLearning/Slides/Redes neurais convolucionais.pdf  \n",
            "  inflating: /content/cursoDeepLearning/__MACOSX/Slides/._Redes neurais convolucionais.pdf  \n",
            "  inflating: /content/cursoDeepLearning/Slides/Autoencoders.pdf  \n",
            "  inflating: /content/cursoDeepLearning/__MACOSX/Slides/._Autoencoders.pdf  \n",
            "  inflating: /content/cursoDeepLearning/Slides/Transfer Learning.pdf  \n",
            "  inflating: /content/cursoDeepLearning/__MACOSX/Slides/._Transfer Learning.pdf  \n"
          ]
        }
      ]
    },
    {
      "cell_type": "markdown",
      "source": [
        "## Etapa 2 - Base de dados"
      ],
      "metadata": {
        "id": "5SEDZp44_XRF"
      }
    },
    {
      "cell_type": "code",
      "source": [
        "# Definindo a semente geradora aleatória\n",
        "np.random.seed(123)\n",
        "\n",
        "# Sempre ter o mesmo resultado\n",
        "torch.manual_seed(123)"
      ],
      "metadata": {
        "id": "5Vg62zYp_vjI",
        "colab": {
          "base_uri": "https://localhost:8080/"
        },
        "outputId": "c7c1e57f-79fe-4c23-9432-21f2b8d5f942"
      },
      "execution_count": 7,
      "outputs": [
        {
          "output_type": "execute_result",
          "data": {
            "text/plain": [
              "<torch._C.Generator at 0x7f5cfcfbd610>"
            ]
          },
          "metadata": {},
          "execution_count": 7
        }
      ]
    },
    {
      "cell_type": "code",
      "source": [
        "np.random.seed(55)\n",
        "np.random.randint(100)"
      ],
      "metadata": {
        "colab": {
          "base_uri": "https://localhost:8080/"
        },
        "id": "yJFoqRgw_GpU",
        "outputId": "27c7d61c-33c5-4c99-86bf-4d8d4ed8601b"
      },
      "execution_count": 8,
      "outputs": [
        {
          "output_type": "execute_result",
          "data": {
            "text/plain": [
              "77"
            ]
          },
          "metadata": {},
          "execution_count": 8
        }
      ]
    },
    {
      "cell_type": "code",
      "source": [
        "previsores = pd.read_csv('/content/cursoDeepLearning/Bases/entradas_breast.csv')\n",
        "classe = pd.read_csv('/content/cursoDeepLearning/Bases/saidas_breast.csv')"
      ],
      "metadata": {
        "id": "r7LvaXlHHqjk"
      },
      "execution_count": 9,
      "outputs": []
    },
    {
      "cell_type": "code",
      "source": [
        "previsores.shape"
      ],
      "metadata": {
        "colab": {
          "base_uri": "https://localhost:8080/"
        },
        "id": "6VTra8L7Jucg",
        "outputId": "ec857dea-dc07-4ccd-a1f0-d09e599814eb"
      },
      "execution_count": 10,
      "outputs": [
        {
          "output_type": "execute_result",
          "data": {
            "text/plain": [
              "(569, 30)"
            ]
          },
          "metadata": {},
          "execution_count": 10
        }
      ]
    },
    {
      "cell_type": "code",
      "source": [
        "previsores.head(10)"
      ],
      "metadata": {
        "colab": {
          "base_uri": "https://localhost:8080/",
          "height": 412
        },
        "id": "SXs1FIzJJ2m-",
        "outputId": "bae98fe1-36e7-43a4-b5c3-6e77d8ea9be7"
      },
      "execution_count": 11,
      "outputs": [
        {
          "output_type": "execute_result",
          "data": {
            "text/plain": [
              "    radius_mean   texture_mean   perimeter_mean   area_mean   smoothness_mean  \\\n",
              "0         17.99          10.38           122.80      1001.0           0.11840   \n",
              "1         20.57          17.77           132.90      1326.0           0.08474   \n",
              "2         19.69          21.25           130.00      1203.0           0.10960   \n",
              "3         11.42          20.38            77.58       386.1           0.14250   \n",
              "4         20.29          14.34           135.10      1297.0           0.10030   \n",
              "5         12.45          15.70            82.57       477.1           0.12780   \n",
              "6         18.25          19.98           119.60      1040.0           0.09463   \n",
              "7         13.71          20.83            90.20       577.9           0.11890   \n",
              "8         13.00          21.82            87.50       519.8           0.12730   \n",
              "9         12.46          24.04            83.97       475.9           0.11860   \n",
              "\n",
              "    compactness_mean   concavity_mean  concave_points_mean   symmetry_mean  \\\n",
              "0            0.27760          0.30010              0.14710          0.2419   \n",
              "1            0.07864          0.08690              0.07017          0.1812   \n",
              "2            0.15990          0.19740              0.12790          0.2069   \n",
              "3            0.28390          0.24140              0.10520          0.2597   \n",
              "4            0.13280        198.00000              0.10430          0.1809   \n",
              "5            0.17000          0.15780              0.08089          0.2087   \n",
              "6          109.00000          0.11270             74.00000          0.1794   \n",
              "7            0.16450          0.09366              0.05985          0.2196   \n",
              "8            0.19320          0.18590              0.09353        235.0000   \n",
              "9            0.23960          0.22730              0.08543        203.0000   \n",
              "\n",
              "    fractal_dimension_mean  ...   radius_worst   texture_worst  \\\n",
              "0                  0.07871  ...          25.38           17.33   \n",
              "1                  0.05667  ...          24.99           23.41   \n",
              "2                  0.05999  ...          23.57           25.53   \n",
              "3                  0.09744  ...          14.91           26.50   \n",
              "4                  0.05883  ...          22.54           16.67   \n",
              "5                  0.07613  ...          15.47           23.75   \n",
              "6                  0.05742  ...          22.88           27.66   \n",
              "7                  0.07451  ...          17.06           28.14   \n",
              "8                  0.07389  ...          15.49           30.73   \n",
              "9                  0.08243  ...          15.09           40.68   \n",
              "\n",
              "    perimeter_worst   area_worst   smoothness_worst   compactness_worst  \\\n",
              "0            184.60       2019.0             0.1622              0.6656   \n",
              "1            158.80       1956.0             0.1238              0.1866   \n",
              "2            152.50       1709.0             0.1444              0.4245   \n",
              "3             98.87        567.7             0.2098              0.8663   \n",
              "4            152.20       1575.0             0.1374            205.0000   \n",
              "5            103.40        741.6             0.1791              0.5249   \n",
              "6            153.20       1606.0             0.1442              0.2576   \n",
              "7            110.60        897.0             0.1654              0.3682   \n",
              "8            106.20        739.3             0.1703              0.5401   \n",
              "9             97.65        711.4             0.1853           1058.0000   \n",
              "\n",
              "    concavity_worst   concave_points_worst   symmetry_worst  \\\n",
              "0            0.7119                 0.2654           0.4601   \n",
              "1            0.2416               186.0000         275.0000   \n",
              "2            0.4504               243.0000           0.3613   \n",
              "3            0.6869                 0.2575           0.6638   \n",
              "4            0.4000                 0.1625           0.2364   \n",
              "5            0.5355                 0.1741           0.3985   \n",
              "6            0.3784                 0.1932           0.3063   \n",
              "7            0.2678                 0.1556           0.3196   \n",
              "8          539.0000               206.0000           0.4378   \n",
              "9         1105.0000               221.0000           0.4366   \n",
              "\n",
              "    fractal_dimension_worst  \n",
              "0                   0.11890  \n",
              "1                   0.08902  \n",
              "2                   0.08758  \n",
              "3                 173.00000  \n",
              "4                   0.07678  \n",
              "5                   0.12440  \n",
              "6                   0.08368  \n",
              "7                   0.11510  \n",
              "8                   0.10720  \n",
              "9                   0.20750  \n",
              "\n",
              "[10 rows x 30 columns]"
            ],
            "text/html": [
              "\n",
              "  <div id=\"df-176b47f5-81dd-46db-b78c-22db8c45dfa9\" class=\"colab-df-container\">\n",
              "    <div>\n",
              "<style scoped>\n",
              "    .dataframe tbody tr th:only-of-type {\n",
              "        vertical-align: middle;\n",
              "    }\n",
              "\n",
              "    .dataframe tbody tr th {\n",
              "        vertical-align: top;\n",
              "    }\n",
              "\n",
              "    .dataframe thead th {\n",
              "        text-align: right;\n",
              "    }\n",
              "</style>\n",
              "<table border=\"1\" class=\"dataframe\">\n",
              "  <thead>\n",
              "    <tr style=\"text-align: right;\">\n",
              "      <th></th>\n",
              "      <th>radius_mean</th>\n",
              "      <th>texture_mean</th>\n",
              "      <th>perimeter_mean</th>\n",
              "      <th>area_mean</th>\n",
              "      <th>smoothness_mean</th>\n",
              "      <th>compactness_mean</th>\n",
              "      <th>concavity_mean</th>\n",
              "      <th>concave_points_mean</th>\n",
              "      <th>symmetry_mean</th>\n",
              "      <th>fractal_dimension_mean</th>\n",
              "      <th>...</th>\n",
              "      <th>radius_worst</th>\n",
              "      <th>texture_worst</th>\n",
              "      <th>perimeter_worst</th>\n",
              "      <th>area_worst</th>\n",
              "      <th>smoothness_worst</th>\n",
              "      <th>compactness_worst</th>\n",
              "      <th>concavity_worst</th>\n",
              "      <th>concave_points_worst</th>\n",
              "      <th>symmetry_worst</th>\n",
              "      <th>fractal_dimension_worst</th>\n",
              "    </tr>\n",
              "  </thead>\n",
              "  <tbody>\n",
              "    <tr>\n",
              "      <th>0</th>\n",
              "      <td>17.99</td>\n",
              "      <td>10.38</td>\n",
              "      <td>122.80</td>\n",
              "      <td>1001.0</td>\n",
              "      <td>0.11840</td>\n",
              "      <td>0.27760</td>\n",
              "      <td>0.30010</td>\n",
              "      <td>0.14710</td>\n",
              "      <td>0.2419</td>\n",
              "      <td>0.07871</td>\n",
              "      <td>...</td>\n",
              "      <td>25.38</td>\n",
              "      <td>17.33</td>\n",
              "      <td>184.60</td>\n",
              "      <td>2019.0</td>\n",
              "      <td>0.1622</td>\n",
              "      <td>0.6656</td>\n",
              "      <td>0.7119</td>\n",
              "      <td>0.2654</td>\n",
              "      <td>0.4601</td>\n",
              "      <td>0.11890</td>\n",
              "    </tr>\n",
              "    <tr>\n",
              "      <th>1</th>\n",
              "      <td>20.57</td>\n",
              "      <td>17.77</td>\n",
              "      <td>132.90</td>\n",
              "      <td>1326.0</td>\n",
              "      <td>0.08474</td>\n",
              "      <td>0.07864</td>\n",
              "      <td>0.08690</td>\n",
              "      <td>0.07017</td>\n",
              "      <td>0.1812</td>\n",
              "      <td>0.05667</td>\n",
              "      <td>...</td>\n",
              "      <td>24.99</td>\n",
              "      <td>23.41</td>\n",
              "      <td>158.80</td>\n",
              "      <td>1956.0</td>\n",
              "      <td>0.1238</td>\n",
              "      <td>0.1866</td>\n",
              "      <td>0.2416</td>\n",
              "      <td>186.0000</td>\n",
              "      <td>275.0000</td>\n",
              "      <td>0.08902</td>\n",
              "    </tr>\n",
              "    <tr>\n",
              "      <th>2</th>\n",
              "      <td>19.69</td>\n",
              "      <td>21.25</td>\n",
              "      <td>130.00</td>\n",
              "      <td>1203.0</td>\n",
              "      <td>0.10960</td>\n",
              "      <td>0.15990</td>\n",
              "      <td>0.19740</td>\n",
              "      <td>0.12790</td>\n",
              "      <td>0.2069</td>\n",
              "      <td>0.05999</td>\n",
              "      <td>...</td>\n",
              "      <td>23.57</td>\n",
              "      <td>25.53</td>\n",
              "      <td>152.50</td>\n",
              "      <td>1709.0</td>\n",
              "      <td>0.1444</td>\n",
              "      <td>0.4245</td>\n",
              "      <td>0.4504</td>\n",
              "      <td>243.0000</td>\n",
              "      <td>0.3613</td>\n",
              "      <td>0.08758</td>\n",
              "    </tr>\n",
              "    <tr>\n",
              "      <th>3</th>\n",
              "      <td>11.42</td>\n",
              "      <td>20.38</td>\n",
              "      <td>77.58</td>\n",
              "      <td>386.1</td>\n",
              "      <td>0.14250</td>\n",
              "      <td>0.28390</td>\n",
              "      <td>0.24140</td>\n",
              "      <td>0.10520</td>\n",
              "      <td>0.2597</td>\n",
              "      <td>0.09744</td>\n",
              "      <td>...</td>\n",
              "      <td>14.91</td>\n",
              "      <td>26.50</td>\n",
              "      <td>98.87</td>\n",
              "      <td>567.7</td>\n",
              "      <td>0.2098</td>\n",
              "      <td>0.8663</td>\n",
              "      <td>0.6869</td>\n",
              "      <td>0.2575</td>\n",
              "      <td>0.6638</td>\n",
              "      <td>173.00000</td>\n",
              "    </tr>\n",
              "    <tr>\n",
              "      <th>4</th>\n",
              "      <td>20.29</td>\n",
              "      <td>14.34</td>\n",
              "      <td>135.10</td>\n",
              "      <td>1297.0</td>\n",
              "      <td>0.10030</td>\n",
              "      <td>0.13280</td>\n",
              "      <td>198.00000</td>\n",
              "      <td>0.10430</td>\n",
              "      <td>0.1809</td>\n",
              "      <td>0.05883</td>\n",
              "      <td>...</td>\n",
              "      <td>22.54</td>\n",
              "      <td>16.67</td>\n",
              "      <td>152.20</td>\n",
              "      <td>1575.0</td>\n",
              "      <td>0.1374</td>\n",
              "      <td>205.0000</td>\n",
              "      <td>0.4000</td>\n",
              "      <td>0.1625</td>\n",
              "      <td>0.2364</td>\n",
              "      <td>0.07678</td>\n",
              "    </tr>\n",
              "    <tr>\n",
              "      <th>5</th>\n",
              "      <td>12.45</td>\n",
              "      <td>15.70</td>\n",
              "      <td>82.57</td>\n",
              "      <td>477.1</td>\n",
              "      <td>0.12780</td>\n",
              "      <td>0.17000</td>\n",
              "      <td>0.15780</td>\n",
              "      <td>0.08089</td>\n",
              "      <td>0.2087</td>\n",
              "      <td>0.07613</td>\n",
              "      <td>...</td>\n",
              "      <td>15.47</td>\n",
              "      <td>23.75</td>\n",
              "      <td>103.40</td>\n",
              "      <td>741.6</td>\n",
              "      <td>0.1791</td>\n",
              "      <td>0.5249</td>\n",
              "      <td>0.5355</td>\n",
              "      <td>0.1741</td>\n",
              "      <td>0.3985</td>\n",
              "      <td>0.12440</td>\n",
              "    </tr>\n",
              "    <tr>\n",
              "      <th>6</th>\n",
              "      <td>18.25</td>\n",
              "      <td>19.98</td>\n",
              "      <td>119.60</td>\n",
              "      <td>1040.0</td>\n",
              "      <td>0.09463</td>\n",
              "      <td>109.00000</td>\n",
              "      <td>0.11270</td>\n",
              "      <td>74.00000</td>\n",
              "      <td>0.1794</td>\n",
              "      <td>0.05742</td>\n",
              "      <td>...</td>\n",
              "      <td>22.88</td>\n",
              "      <td>27.66</td>\n",
              "      <td>153.20</td>\n",
              "      <td>1606.0</td>\n",
              "      <td>0.1442</td>\n",
              "      <td>0.2576</td>\n",
              "      <td>0.3784</td>\n",
              "      <td>0.1932</td>\n",
              "      <td>0.3063</td>\n",
              "      <td>0.08368</td>\n",
              "    </tr>\n",
              "    <tr>\n",
              "      <th>7</th>\n",
              "      <td>13.71</td>\n",
              "      <td>20.83</td>\n",
              "      <td>90.20</td>\n",
              "      <td>577.9</td>\n",
              "      <td>0.11890</td>\n",
              "      <td>0.16450</td>\n",
              "      <td>0.09366</td>\n",
              "      <td>0.05985</td>\n",
              "      <td>0.2196</td>\n",
              "      <td>0.07451</td>\n",
              "      <td>...</td>\n",
              "      <td>17.06</td>\n",
              "      <td>28.14</td>\n",
              "      <td>110.60</td>\n",
              "      <td>897.0</td>\n",
              "      <td>0.1654</td>\n",
              "      <td>0.3682</td>\n",
              "      <td>0.2678</td>\n",
              "      <td>0.1556</td>\n",
              "      <td>0.3196</td>\n",
              "      <td>0.11510</td>\n",
              "    </tr>\n",
              "    <tr>\n",
              "      <th>8</th>\n",
              "      <td>13.00</td>\n",
              "      <td>21.82</td>\n",
              "      <td>87.50</td>\n",
              "      <td>519.8</td>\n",
              "      <td>0.12730</td>\n",
              "      <td>0.19320</td>\n",
              "      <td>0.18590</td>\n",
              "      <td>0.09353</td>\n",
              "      <td>235.0000</td>\n",
              "      <td>0.07389</td>\n",
              "      <td>...</td>\n",
              "      <td>15.49</td>\n",
              "      <td>30.73</td>\n",
              "      <td>106.20</td>\n",
              "      <td>739.3</td>\n",
              "      <td>0.1703</td>\n",
              "      <td>0.5401</td>\n",
              "      <td>539.0000</td>\n",
              "      <td>206.0000</td>\n",
              "      <td>0.4378</td>\n",
              "      <td>0.10720</td>\n",
              "    </tr>\n",
              "    <tr>\n",
              "      <th>9</th>\n",
              "      <td>12.46</td>\n",
              "      <td>24.04</td>\n",
              "      <td>83.97</td>\n",
              "      <td>475.9</td>\n",
              "      <td>0.11860</td>\n",
              "      <td>0.23960</td>\n",
              "      <td>0.22730</td>\n",
              "      <td>0.08543</td>\n",
              "      <td>203.0000</td>\n",
              "      <td>0.08243</td>\n",
              "      <td>...</td>\n",
              "      <td>15.09</td>\n",
              "      <td>40.68</td>\n",
              "      <td>97.65</td>\n",
              "      <td>711.4</td>\n",
              "      <td>0.1853</td>\n",
              "      <td>1058.0000</td>\n",
              "      <td>1105.0000</td>\n",
              "      <td>221.0000</td>\n",
              "      <td>0.4366</td>\n",
              "      <td>0.20750</td>\n",
              "    </tr>\n",
              "  </tbody>\n",
              "</table>\n",
              "<p>10 rows × 30 columns</p>\n",
              "</div>\n",
              "    <div class=\"colab-df-buttons\">\n",
              "\n",
              "  <div class=\"colab-df-container\">\n",
              "    <button class=\"colab-df-convert\" onclick=\"convertToInteractive('df-176b47f5-81dd-46db-b78c-22db8c45dfa9')\"\n",
              "            title=\"Convert this dataframe to an interactive table.\"\n",
              "            style=\"display:none;\">\n",
              "\n",
              "  <svg xmlns=\"http://www.w3.org/2000/svg\" height=\"24px\" viewBox=\"0 -960 960 960\">\n",
              "    <path d=\"M120-120v-720h720v720H120Zm60-500h600v-160H180v160Zm220 220h160v-160H400v160Zm0 220h160v-160H400v160ZM180-400h160v-160H180v160Zm440 0h160v-160H620v160ZM180-180h160v-160H180v160Zm440 0h160v-160H620v160Z\"/>\n",
              "  </svg>\n",
              "    </button>\n",
              "\n",
              "  <style>\n",
              "    .colab-df-container {\n",
              "      display:flex;\n",
              "      gap: 12px;\n",
              "    }\n",
              "\n",
              "    .colab-df-convert {\n",
              "      background-color: #E8F0FE;\n",
              "      border: none;\n",
              "      border-radius: 50%;\n",
              "      cursor: pointer;\n",
              "      display: none;\n",
              "      fill: #1967D2;\n",
              "      height: 32px;\n",
              "      padding: 0 0 0 0;\n",
              "      width: 32px;\n",
              "    }\n",
              "\n",
              "    .colab-df-convert:hover {\n",
              "      background-color: #E2EBFA;\n",
              "      box-shadow: 0px 1px 2px rgba(60, 64, 67, 0.3), 0px 1px 3px 1px rgba(60, 64, 67, 0.15);\n",
              "      fill: #174EA6;\n",
              "    }\n",
              "\n",
              "    .colab-df-buttons div {\n",
              "      margin-bottom: 4px;\n",
              "    }\n",
              "\n",
              "    [theme=dark] .colab-df-convert {\n",
              "      background-color: #3B4455;\n",
              "      fill: #D2E3FC;\n",
              "    }\n",
              "\n",
              "    [theme=dark] .colab-df-convert:hover {\n",
              "      background-color: #434B5C;\n",
              "      box-shadow: 0px 1px 3px 1px rgba(0, 0, 0, 0.15);\n",
              "      filter: drop-shadow(0px 1px 2px rgba(0, 0, 0, 0.3));\n",
              "      fill: #FFFFFF;\n",
              "    }\n",
              "  </style>\n",
              "\n",
              "    <script>\n",
              "      const buttonEl =\n",
              "        document.querySelector('#df-176b47f5-81dd-46db-b78c-22db8c45dfa9 button.colab-df-convert');\n",
              "      buttonEl.style.display =\n",
              "        google.colab.kernel.accessAllowed ? 'block' : 'none';\n",
              "\n",
              "      async function convertToInteractive(key) {\n",
              "        const element = document.querySelector('#df-176b47f5-81dd-46db-b78c-22db8c45dfa9');\n",
              "        const dataTable =\n",
              "          await google.colab.kernel.invokeFunction('convertToInteractive',\n",
              "                                                    [key], {});\n",
              "        if (!dataTable) return;\n",
              "\n",
              "        const docLinkHtml = 'Like what you see? Visit the ' +\n",
              "          '<a target=\"_blank\" href=https://colab.research.google.com/notebooks/data_table.ipynb>data table notebook</a>'\n",
              "          + ' to learn more about interactive tables.';\n",
              "        element.innerHTML = '';\n",
              "        dataTable['output_type'] = 'display_data';\n",
              "        await google.colab.output.renderOutput(dataTable, element);\n",
              "        const docLink = document.createElement('div');\n",
              "        docLink.innerHTML = docLinkHtml;\n",
              "        element.appendChild(docLink);\n",
              "      }\n",
              "    </script>\n",
              "  </div>\n",
              "\n",
              "\n",
              "<div id=\"df-81e0722a-da0f-4456-b495-ec7f60d640a5\">\n",
              "  <button class=\"colab-df-quickchart\" onclick=\"quickchart('df-81e0722a-da0f-4456-b495-ec7f60d640a5')\"\n",
              "            title=\"Suggest charts.\"\n",
              "            style=\"display:none;\">\n",
              "\n",
              "<svg xmlns=\"http://www.w3.org/2000/svg\" height=\"24px\"viewBox=\"0 0 24 24\"\n",
              "     width=\"24px\">\n",
              "    <g>\n",
              "        <path d=\"M19 3H5c-1.1 0-2 .9-2 2v14c0 1.1.9 2 2 2h14c1.1 0 2-.9 2-2V5c0-1.1-.9-2-2-2zM9 17H7v-7h2v7zm4 0h-2V7h2v10zm4 0h-2v-4h2v4z\"/>\n",
              "    </g>\n",
              "</svg>\n",
              "  </button>\n",
              "\n",
              "<style>\n",
              "  .colab-df-quickchart {\n",
              "      --bg-color: #E8F0FE;\n",
              "      --fill-color: #1967D2;\n",
              "      --hover-bg-color: #E2EBFA;\n",
              "      --hover-fill-color: #174EA6;\n",
              "      --disabled-fill-color: #AAA;\n",
              "      --disabled-bg-color: #DDD;\n",
              "  }\n",
              "\n",
              "  [theme=dark] .colab-df-quickchart {\n",
              "      --bg-color: #3B4455;\n",
              "      --fill-color: #D2E3FC;\n",
              "      --hover-bg-color: #434B5C;\n",
              "      --hover-fill-color: #FFFFFF;\n",
              "      --disabled-bg-color: #3B4455;\n",
              "      --disabled-fill-color: #666;\n",
              "  }\n",
              "\n",
              "  .colab-df-quickchart {\n",
              "    background-color: var(--bg-color);\n",
              "    border: none;\n",
              "    border-radius: 50%;\n",
              "    cursor: pointer;\n",
              "    display: none;\n",
              "    fill: var(--fill-color);\n",
              "    height: 32px;\n",
              "    padding: 0;\n",
              "    width: 32px;\n",
              "  }\n",
              "\n",
              "  .colab-df-quickchart:hover {\n",
              "    background-color: var(--hover-bg-color);\n",
              "    box-shadow: 0 1px 2px rgba(60, 64, 67, 0.3), 0 1px 3px 1px rgba(60, 64, 67, 0.15);\n",
              "    fill: var(--button-hover-fill-color);\n",
              "  }\n",
              "\n",
              "  .colab-df-quickchart-complete:disabled,\n",
              "  .colab-df-quickchart-complete:disabled:hover {\n",
              "    background-color: var(--disabled-bg-color);\n",
              "    fill: var(--disabled-fill-color);\n",
              "    box-shadow: none;\n",
              "  }\n",
              "\n",
              "  .colab-df-spinner {\n",
              "    border: 2px solid var(--fill-color);\n",
              "    border-color: transparent;\n",
              "    border-bottom-color: var(--fill-color);\n",
              "    animation:\n",
              "      spin 1s steps(1) infinite;\n",
              "  }\n",
              "\n",
              "  @keyframes spin {\n",
              "    0% {\n",
              "      border-color: transparent;\n",
              "      border-bottom-color: var(--fill-color);\n",
              "      border-left-color: var(--fill-color);\n",
              "    }\n",
              "    20% {\n",
              "      border-color: transparent;\n",
              "      border-left-color: var(--fill-color);\n",
              "      border-top-color: var(--fill-color);\n",
              "    }\n",
              "    30% {\n",
              "      border-color: transparent;\n",
              "      border-left-color: var(--fill-color);\n",
              "      border-top-color: var(--fill-color);\n",
              "      border-right-color: var(--fill-color);\n",
              "    }\n",
              "    40% {\n",
              "      border-color: transparent;\n",
              "      border-right-color: var(--fill-color);\n",
              "      border-top-color: var(--fill-color);\n",
              "    }\n",
              "    60% {\n",
              "      border-color: transparent;\n",
              "      border-right-color: var(--fill-color);\n",
              "    }\n",
              "    80% {\n",
              "      border-color: transparent;\n",
              "      border-right-color: var(--fill-color);\n",
              "      border-bottom-color: var(--fill-color);\n",
              "    }\n",
              "    90% {\n",
              "      border-color: transparent;\n",
              "      border-bottom-color: var(--fill-color);\n",
              "    }\n",
              "  }\n",
              "</style>\n",
              "\n",
              "  <script>\n",
              "    async function quickchart(key) {\n",
              "      const quickchartButtonEl =\n",
              "        document.querySelector('#' + key + ' button');\n",
              "      quickchartButtonEl.disabled = true;  // To prevent multiple clicks.\n",
              "      quickchartButtonEl.classList.add('colab-df-spinner');\n",
              "      try {\n",
              "        const charts = await google.colab.kernel.invokeFunction(\n",
              "            'suggestCharts', [key], {});\n",
              "      } catch (error) {\n",
              "        console.error('Error during call to suggestCharts:', error);\n",
              "      }\n",
              "      quickchartButtonEl.classList.remove('colab-df-spinner');\n",
              "      quickchartButtonEl.classList.add('colab-df-quickchart-complete');\n",
              "    }\n",
              "    (() => {\n",
              "      let quickchartButtonEl =\n",
              "        document.querySelector('#df-81e0722a-da0f-4456-b495-ec7f60d640a5 button');\n",
              "      quickchartButtonEl.style.display =\n",
              "        google.colab.kernel.accessAllowed ? 'block' : 'none';\n",
              "    })();\n",
              "  </script>\n",
              "</div>\n",
              "    </div>\n",
              "  </div>\n"
            ]
          },
          "metadata": {},
          "execution_count": 11
        }
      ]
    },
    {
      "cell_type": "code",
      "source": [
        "classe.shape"
      ],
      "metadata": {
        "id": "eqxpkPo-Jxn1",
        "colab": {
          "base_uri": "https://localhost:8080/"
        },
        "outputId": "552272d8-094a-47d3-87ed-315050b52c61"
      },
      "execution_count": 12,
      "outputs": [
        {
          "output_type": "execute_result",
          "data": {
            "text/plain": [
              "(569, 1)"
            ]
          },
          "metadata": {},
          "execution_count": 12
        }
      ]
    },
    {
      "cell_type": "code",
      "source": [
        "classe.sample(10)"
      ],
      "metadata": {
        "colab": {
          "base_uri": "https://localhost:8080/",
          "height": 363
        },
        "id": "Txhmc6zJJ6ei",
        "outputId": "8529fdc2-84cf-4bd9-d6b3-b4c39ac927a1"
      },
      "execution_count": 13,
      "outputs": [
        {
          "output_type": "execute_result",
          "data": {
            "text/plain": [
              "     0\n",
              "448  1\n",
              "524  1\n",
              "545  1\n",
              "353  0\n",
              "173  1\n",
              "30   0\n",
              "460  0\n",
              "34   0\n",
              "329  0\n",
              "410  1"
            ],
            "text/html": [
              "\n",
              "  <div id=\"df-765104a4-f9e2-44f1-bb59-cdeab3c698af\" class=\"colab-df-container\">\n",
              "    <div>\n",
              "<style scoped>\n",
              "    .dataframe tbody tr th:only-of-type {\n",
              "        vertical-align: middle;\n",
              "    }\n",
              "\n",
              "    .dataframe tbody tr th {\n",
              "        vertical-align: top;\n",
              "    }\n",
              "\n",
              "    .dataframe thead th {\n",
              "        text-align: right;\n",
              "    }\n",
              "</style>\n",
              "<table border=\"1\" class=\"dataframe\">\n",
              "  <thead>\n",
              "    <tr style=\"text-align: right;\">\n",
              "      <th></th>\n",
              "      <th>0</th>\n",
              "    </tr>\n",
              "  </thead>\n",
              "  <tbody>\n",
              "    <tr>\n",
              "      <th>448</th>\n",
              "      <td>1</td>\n",
              "    </tr>\n",
              "    <tr>\n",
              "      <th>524</th>\n",
              "      <td>1</td>\n",
              "    </tr>\n",
              "    <tr>\n",
              "      <th>545</th>\n",
              "      <td>1</td>\n",
              "    </tr>\n",
              "    <tr>\n",
              "      <th>353</th>\n",
              "      <td>0</td>\n",
              "    </tr>\n",
              "    <tr>\n",
              "      <th>173</th>\n",
              "      <td>1</td>\n",
              "    </tr>\n",
              "    <tr>\n",
              "      <th>30</th>\n",
              "      <td>0</td>\n",
              "    </tr>\n",
              "    <tr>\n",
              "      <th>460</th>\n",
              "      <td>0</td>\n",
              "    </tr>\n",
              "    <tr>\n",
              "      <th>34</th>\n",
              "      <td>0</td>\n",
              "    </tr>\n",
              "    <tr>\n",
              "      <th>329</th>\n",
              "      <td>0</td>\n",
              "    </tr>\n",
              "    <tr>\n",
              "      <th>410</th>\n",
              "      <td>1</td>\n",
              "    </tr>\n",
              "  </tbody>\n",
              "</table>\n",
              "</div>\n",
              "    <div class=\"colab-df-buttons\">\n",
              "\n",
              "  <div class=\"colab-df-container\">\n",
              "    <button class=\"colab-df-convert\" onclick=\"convertToInteractive('df-765104a4-f9e2-44f1-bb59-cdeab3c698af')\"\n",
              "            title=\"Convert this dataframe to an interactive table.\"\n",
              "            style=\"display:none;\">\n",
              "\n",
              "  <svg xmlns=\"http://www.w3.org/2000/svg\" height=\"24px\" viewBox=\"0 -960 960 960\">\n",
              "    <path d=\"M120-120v-720h720v720H120Zm60-500h600v-160H180v160Zm220 220h160v-160H400v160Zm0 220h160v-160H400v160ZM180-400h160v-160H180v160Zm440 0h160v-160H620v160ZM180-180h160v-160H180v160Zm440 0h160v-160H620v160Z\"/>\n",
              "  </svg>\n",
              "    </button>\n",
              "\n",
              "  <style>\n",
              "    .colab-df-container {\n",
              "      display:flex;\n",
              "      gap: 12px;\n",
              "    }\n",
              "\n",
              "    .colab-df-convert {\n",
              "      background-color: #E8F0FE;\n",
              "      border: none;\n",
              "      border-radius: 50%;\n",
              "      cursor: pointer;\n",
              "      display: none;\n",
              "      fill: #1967D2;\n",
              "      height: 32px;\n",
              "      padding: 0 0 0 0;\n",
              "      width: 32px;\n",
              "    }\n",
              "\n",
              "    .colab-df-convert:hover {\n",
              "      background-color: #E2EBFA;\n",
              "      box-shadow: 0px 1px 2px rgba(60, 64, 67, 0.3), 0px 1px 3px 1px rgba(60, 64, 67, 0.15);\n",
              "      fill: #174EA6;\n",
              "    }\n",
              "\n",
              "    .colab-df-buttons div {\n",
              "      margin-bottom: 4px;\n",
              "    }\n",
              "\n",
              "    [theme=dark] .colab-df-convert {\n",
              "      background-color: #3B4455;\n",
              "      fill: #D2E3FC;\n",
              "    }\n",
              "\n",
              "    [theme=dark] .colab-df-convert:hover {\n",
              "      background-color: #434B5C;\n",
              "      box-shadow: 0px 1px 3px 1px rgba(0, 0, 0, 0.15);\n",
              "      filter: drop-shadow(0px 1px 2px rgba(0, 0, 0, 0.3));\n",
              "      fill: #FFFFFF;\n",
              "    }\n",
              "  </style>\n",
              "\n",
              "    <script>\n",
              "      const buttonEl =\n",
              "        document.querySelector('#df-765104a4-f9e2-44f1-bb59-cdeab3c698af button.colab-df-convert');\n",
              "      buttonEl.style.display =\n",
              "        google.colab.kernel.accessAllowed ? 'block' : 'none';\n",
              "\n",
              "      async function convertToInteractive(key) {\n",
              "        const element = document.querySelector('#df-765104a4-f9e2-44f1-bb59-cdeab3c698af');\n",
              "        const dataTable =\n",
              "          await google.colab.kernel.invokeFunction('convertToInteractive',\n",
              "                                                    [key], {});\n",
              "        if (!dataTable) return;\n",
              "\n",
              "        const docLinkHtml = 'Like what you see? Visit the ' +\n",
              "          '<a target=\"_blank\" href=https://colab.research.google.com/notebooks/data_table.ipynb>data table notebook</a>'\n",
              "          + ' to learn more about interactive tables.';\n",
              "        element.innerHTML = '';\n",
              "        dataTable['output_type'] = 'display_data';\n",
              "        await google.colab.output.renderOutput(dataTable, element);\n",
              "        const docLink = document.createElement('div');\n",
              "        docLink.innerHTML = docLinkHtml;\n",
              "        element.appendChild(docLink);\n",
              "      }\n",
              "    </script>\n",
              "  </div>\n",
              "\n",
              "\n",
              "<div id=\"df-f2f081a9-b885-4597-9124-3b89650ee7e1\">\n",
              "  <button class=\"colab-df-quickchart\" onclick=\"quickchart('df-f2f081a9-b885-4597-9124-3b89650ee7e1')\"\n",
              "            title=\"Suggest charts.\"\n",
              "            style=\"display:none;\">\n",
              "\n",
              "<svg xmlns=\"http://www.w3.org/2000/svg\" height=\"24px\"viewBox=\"0 0 24 24\"\n",
              "     width=\"24px\">\n",
              "    <g>\n",
              "        <path d=\"M19 3H5c-1.1 0-2 .9-2 2v14c0 1.1.9 2 2 2h14c1.1 0 2-.9 2-2V5c0-1.1-.9-2-2-2zM9 17H7v-7h2v7zm4 0h-2V7h2v10zm4 0h-2v-4h2v4z\"/>\n",
              "    </g>\n",
              "</svg>\n",
              "  </button>\n",
              "\n",
              "<style>\n",
              "  .colab-df-quickchart {\n",
              "      --bg-color: #E8F0FE;\n",
              "      --fill-color: #1967D2;\n",
              "      --hover-bg-color: #E2EBFA;\n",
              "      --hover-fill-color: #174EA6;\n",
              "      --disabled-fill-color: #AAA;\n",
              "      --disabled-bg-color: #DDD;\n",
              "  }\n",
              "\n",
              "  [theme=dark] .colab-df-quickchart {\n",
              "      --bg-color: #3B4455;\n",
              "      --fill-color: #D2E3FC;\n",
              "      --hover-bg-color: #434B5C;\n",
              "      --hover-fill-color: #FFFFFF;\n",
              "      --disabled-bg-color: #3B4455;\n",
              "      --disabled-fill-color: #666;\n",
              "  }\n",
              "\n",
              "  .colab-df-quickchart {\n",
              "    background-color: var(--bg-color);\n",
              "    border: none;\n",
              "    border-radius: 50%;\n",
              "    cursor: pointer;\n",
              "    display: none;\n",
              "    fill: var(--fill-color);\n",
              "    height: 32px;\n",
              "    padding: 0;\n",
              "    width: 32px;\n",
              "  }\n",
              "\n",
              "  .colab-df-quickchart:hover {\n",
              "    background-color: var(--hover-bg-color);\n",
              "    box-shadow: 0 1px 2px rgba(60, 64, 67, 0.3), 0 1px 3px 1px rgba(60, 64, 67, 0.15);\n",
              "    fill: var(--button-hover-fill-color);\n",
              "  }\n",
              "\n",
              "  .colab-df-quickchart-complete:disabled,\n",
              "  .colab-df-quickchart-complete:disabled:hover {\n",
              "    background-color: var(--disabled-bg-color);\n",
              "    fill: var(--disabled-fill-color);\n",
              "    box-shadow: none;\n",
              "  }\n",
              "\n",
              "  .colab-df-spinner {\n",
              "    border: 2px solid var(--fill-color);\n",
              "    border-color: transparent;\n",
              "    border-bottom-color: var(--fill-color);\n",
              "    animation:\n",
              "      spin 1s steps(1) infinite;\n",
              "  }\n",
              "\n",
              "  @keyframes spin {\n",
              "    0% {\n",
              "      border-color: transparent;\n",
              "      border-bottom-color: var(--fill-color);\n",
              "      border-left-color: var(--fill-color);\n",
              "    }\n",
              "    20% {\n",
              "      border-color: transparent;\n",
              "      border-left-color: var(--fill-color);\n",
              "      border-top-color: var(--fill-color);\n",
              "    }\n",
              "    30% {\n",
              "      border-color: transparent;\n",
              "      border-left-color: var(--fill-color);\n",
              "      border-top-color: var(--fill-color);\n",
              "      border-right-color: var(--fill-color);\n",
              "    }\n",
              "    40% {\n",
              "      border-color: transparent;\n",
              "      border-right-color: var(--fill-color);\n",
              "      border-top-color: var(--fill-color);\n",
              "    }\n",
              "    60% {\n",
              "      border-color: transparent;\n",
              "      border-right-color: var(--fill-color);\n",
              "    }\n",
              "    80% {\n",
              "      border-color: transparent;\n",
              "      border-right-color: var(--fill-color);\n",
              "      border-bottom-color: var(--fill-color);\n",
              "    }\n",
              "    90% {\n",
              "      border-color: transparent;\n",
              "      border-bottom-color: var(--fill-color);\n",
              "    }\n",
              "  }\n",
              "</style>\n",
              "\n",
              "  <script>\n",
              "    async function quickchart(key) {\n",
              "      const quickchartButtonEl =\n",
              "        document.querySelector('#' + key + ' button');\n",
              "      quickchartButtonEl.disabled = true;  // To prevent multiple clicks.\n",
              "      quickchartButtonEl.classList.add('colab-df-spinner');\n",
              "      try {\n",
              "        const charts = await google.colab.kernel.invokeFunction(\n",
              "            'suggestCharts', [key], {});\n",
              "      } catch (error) {\n",
              "        console.error('Error during call to suggestCharts:', error);\n",
              "      }\n",
              "      quickchartButtonEl.classList.remove('colab-df-spinner');\n",
              "      quickchartButtonEl.classList.add('colab-df-quickchart-complete');\n",
              "    }\n",
              "    (() => {\n",
              "      let quickchartButtonEl =\n",
              "        document.querySelector('#df-f2f081a9-b885-4597-9124-3b89650ee7e1 button');\n",
              "      quickchartButtonEl.style.display =\n",
              "        google.colab.kernel.accessAllowed ? 'block' : 'none';\n",
              "    })();\n",
              "  </script>\n",
              "</div>\n",
              "    </div>\n",
              "  </div>\n"
            ]
          },
          "metadata": {},
          "execution_count": 13
        }
      ]
    },
    {
      "cell_type": "code",
      "source": [
        "# Conferindo quantos valores únicos\n",
        "np.unique(classe)"
      ],
      "metadata": {
        "colab": {
          "base_uri": "https://localhost:8080/"
        },
        "id": "GAvE3W-iKeUP",
        "outputId": "ce202a26-665a-4af7-e601-1906f1008c99"
      },
      "execution_count": 14,
      "outputs": [
        {
          "output_type": "execute_result",
          "data": {
            "text/plain": [
              "array([0, 1])"
            ]
          },
          "metadata": {},
          "execution_count": 14
        }
      ]
    },
    {
      "cell_type": "code",
      "source": [
        "sns.countplot(x=classe['0']);"
      ],
      "metadata": {
        "colab": {
          "base_uri": "https://localhost:8080/",
          "height": 449
        },
        "id": "794orGrvKemU",
        "outputId": "2b58ea4a-82c0-4869-f32f-cdfb2338ecf1"
      },
      "execution_count": 15,
      "outputs": [
        {
          "output_type": "display_data",
          "data": {
            "text/plain": [
              "<Figure size 640x480 with 1 Axes>"
            ],
            "image/png": "[encoded data removed]"
          },
          "metadata": {}
        }
      ]
    },
    {
      "cell_type": "code",
      "source": [
        "previsores_treinamento, previsores_teste, classe_treinamento, classe_teste =  train_test_split(previsores,\n",
        "                                                                                               classe,\n",
        "                                                                                               test_size=0.20)"
      ],
      "metadata": {
        "id": "9AU-g6E5MB0_"
      },
      "execution_count": 16,
      "outputs": []
    },
    {
      "cell_type": "code",
      "source": [
        "previsores_treinamento.shape"
      ],
      "metadata": {
        "colab": {
          "base_uri": "https://localhost:8080/"
        },
        "id": "aoqf98JiMcuW",
        "outputId": "2e27db5a-8d9a-4b9d-af54-068969be3c22"
      },
      "execution_count": 17,
      "outputs": [
        {
          "output_type": "execute_result",
          "data": {
            "text/plain": [
              "(455, 30)"
            ]
          },
          "metadata": {},
          "execution_count": 17
        }
      ]
    },
    {
      "cell_type": "code",
      "source": [
        "classe_treinamento.shape"
      ],
      "metadata": {
        "colab": {
          "base_uri": "https://localhost:8080/"
        },
        "id": "jb1ueQnTMjsc",
        "outputId": "27d2b0ec-af9d-4372-8496-9952f0b9a7f4"
      },
      "execution_count": 18,
      "outputs": [
        {
          "output_type": "execute_result",
          "data": {
            "text/plain": [
              "(455, 1)"
            ]
          },
          "metadata": {},
          "execution_count": 18
        }
      ]
    },
    {
      "cell_type": "code",
      "source": [
        "previsores_teste.shape"
      ],
      "metadata": {
        "colab": {
          "base_uri": "https://localhost:8080/"
        },
        "id": "NJ0_ywmmMoCQ",
        "outputId": "fce9982c-4b3b-4632-eacd-23b40334427d"
      },
      "execution_count": 19,
      "outputs": [
        {
          "output_type": "execute_result",
          "data": {
            "text/plain": [
              "(114, 30)"
            ]
          },
          "metadata": {},
          "execution_count": 19
        }
      ]
    },
    {
      "cell_type": "code",
      "source": [
        "classe_teste.shape"
      ],
      "metadata": {
        "colab": {
          "base_uri": "https://localhost:8080/"
        },
        "id": "5En_Y3h9MsxN",
        "outputId": "68deb025-aa9b-42f8-d99a-43b6a2b19c3e"
      },
      "execution_count": 20,
      "outputs": [
        {
          "output_type": "execute_result",
          "data": {
            "text/plain": [
              "(114, 1)"
            ]
          },
          "metadata": {},
          "execution_count": 20
        }
      ]
    },
    {
      "cell_type": "markdown",
      "source": [
        "## Etapa 3 - Transformação dos dados para tensores"
      ],
      "metadata": {
        "id": "OmNfrmZC_aVl"
      }
    },
    {
      "cell_type": "code",
      "source": [
        "type(previsores_treinamento)"
      ],
      "metadata": {
        "id": "kIcfVMkV_wZz",
        "colab": {
          "base_uri": "https://localhost:8080/"
        },
        "outputId": "5a54bc89-2201-4ba4-ed8e-6bdd7f33049a"
      },
      "execution_count": 21,
      "outputs": [
        {
          "output_type": "execute_result",
          "data": {
            "text/plain": [
              "pandas.core.frame.DataFrame"
            ]
          },
          "metadata": {},
          "execution_count": 21
        }
      ]
    },
    {
      "cell_type": "code",
      "source": [
        "# Convertendo de pandas para numpy\n",
        "type(np.array(previsores_treinamento))"
      ],
      "metadata": {
        "colab": {
          "base_uri": "https://localhost:8080/"
        },
        "id": "YUv7mM2mJMFe",
        "outputId": "d9094841-b774-4a72-e67c-c2fe926fbf1e"
      },
      "execution_count": 22,
      "outputs": [
        {
          "output_type": "execute_result",
          "data": {
            "text/plain": [
              "numpy.ndarray"
            ]
          },
          "metadata": {},
          "execution_count": 22
        }
      ]
    },
    {
      "cell_type": "code",
      "source": [
        "# Convertendo de Numpy para Tensor\n",
        "previsores_treinamento = torch.tensor(np.array(previsores_treinamento), dtype=torch.float)\n",
        "classe_treinamento = torch.tensor(np.array(classe_treinamento), dtype=torch.float)\n"
      ],
      "metadata": {
        "id": "YZsJtOazJcDB"
      },
      "execution_count": 23,
      "outputs": []
    },
    {
      "cell_type": "code",
      "source": [
        "type(previsores_treinamento)"
      ],
      "metadata": {
        "colab": {
          "base_uri": "https://localhost:8080/"
        },
        "id": "-lKnnbJzKNFp",
        "outputId": "5bf56dac-d022-4273-ff74-ec78091fbfe8"
      },
      "execution_count": 24,
      "outputs": [
        {
          "output_type": "execute_result",
          "data": {
            "text/plain": [
              "torch.Tensor"
            ]
          },
          "metadata": {},
          "execution_count": 24
        }
      ]
    },
    {
      "cell_type": "code",
      "source": [
        "type(classe_treinamento)"
      ],
      "metadata": {
        "colab": {
          "base_uri": "https://localhost:8080/"
        },
        "id": "w6Hp3szqKQM2",
        "outputId": "0b0096ae-fb74-4e7c-d538-ab3839bcf753"
      },
      "execution_count": 25,
      "outputs": [
        {
          "output_type": "execute_result",
          "data": {
            "text/plain": [
              "torch.Tensor"
            ]
          },
          "metadata": {},
          "execution_count": 25
        }
      ]
    },
    {
      "cell_type": "code",
      "source": [
        "# Unindo as variáveis\n",
        "dataset = torch.utils.data.TensorDataset(previsores_treinamento, classe_treinamento)"
      ],
      "metadata": {
        "id": "dumeCQoiKUNH"
      },
      "execution_count": 26,
      "outputs": []
    },
    {
      "cell_type": "code",
      "source": [
        "type(dataset)"
      ],
      "metadata": {
        "colab": {
          "base_uri": "https://localhost:8080/"
        },
        "id": "eDn3oPz8Kxik",
        "outputId": "beb61fce-9ddc-4cc8-bfc8-a3af8fe78013"
      },
      "execution_count": 27,
      "outputs": [
        {
          "output_type": "execute_result",
          "data": {
            "text/plain": [
              "torch.utils.data.dataset.TensorDataset"
            ]
          },
          "metadata": {},
          "execution_count": 27
        }
      ]
    },
    {
      "cell_type": "code",
      "source": [
        "# Fornecendo um dataloader para realizar as iterações\n",
        "train_loader = torch.utils.data.DataLoader(dataset, batch_size=10, shuffle=True)\n",
        "#batch_Size = Vai atualizar os pesos para a quantidade de registros a cada iteração e calcular o erro para cada um deles\n",
        "# Também mantém um histórico para não repetir os dados"
      ],
      "metadata": {
        "id": "lkN20WehK8mb"
      },
      "execution_count": 28,
      "outputs": []
    },
    {
      "cell_type": "markdown",
      "source": [
        "## Etapa 4 - Contrução do modelo"
      ],
      "metadata": {
        "id": "urEWdGa-_flV"
      }
    },
    {
      "cell_type": "markdown",
      "source": [
        "30 -> 16 -> 16 -> 1\n",
        "\n",
        "---\n",
        "Neuronios de entrada -> Camada oculta -> Camada Oculta -> Saída\n",
        "\n",
        "---\n",
        "Fórmula de definição das camadas: (Entrada + Saida) / 2 -> (30 + 1) / 2 = 16\n",
        "\n",
        "---\n",
        "\n",
        "OBS: Na camade entrada você sempre terá a mesma quantidade de neurónios e de atributos"
      ],
      "metadata": {
        "id": "b-doQqK1M0Ms"
      }
    },
    {
      "cell_type": "code",
      "source": [
        "classificador = nn.Sequential(\n",
        "    nn.Linear(in_features = 30, out_features = 16),\n",
        "    nn.ReLU(),\n",
        "    nn.Linear(16, 16),\n",
        "    nn.ReLU(),\n",
        "    nn.Linear(16, 1),\n",
        "    nn.Sigmoid()\n",
        ")"
      ],
      "metadata": {
        "id": "MZd7ZWE9_xJZ"
      },
      "execution_count": 29,
      "outputs": []
    },
    {
      "cell_type": "code",
      "source": [
        "classificador"
      ],
      "metadata": {
        "colab": {
          "base_uri": "https://localhost:8080/"
        },
        "id": "NxpKBtoaJ_r0",
        "outputId": "6c00f3bf-b47e-49e0-e1d6-db028948f0f4"
      },
      "execution_count": 30,
      "outputs": [
        {
          "output_type": "execute_result",
          "data": {
            "text/plain": [
              "Sequential(\n",
              "  (0): Linear(in_features=30, out_features=16, bias=True)\n",
              "  (1): ReLU()\n",
              "  (2): Linear(in_features=16, out_features=16, bias=True)\n",
              "  (3): ReLU()\n",
              "  (4): Linear(in_features=16, out_features=1, bias=True)\n",
              "  (5): Sigmoid()\n",
              ")"
            ]
          },
          "metadata": {},
          "execution_count": 30
        }
      ]
    },
    {
      "cell_type": "code",
      "source": [
        "# Criando a função de Erro\n",
        "criterion = nn.BCELoss()"
      ],
      "metadata": {
        "id": "EwsusQ6yKHP5"
      },
      "execution_count": 31,
      "outputs": []
    },
    {
      "cell_type": "code",
      "source": [
        "# Criando o optimizador\n",
        "optimizer = torch.optim.Adam(classificador.parameters(),\n",
        "                             lr = 0.001,\n",
        "                             weight_decay=0.0001)\n",
        "# Carrega os parâmetros de estrutura da RNA\n",
        "# LR = Learning Rating"
      ],
      "metadata": {
        "id": "fkFmnbP1Kds_"
      },
      "execution_count": 32,
      "outputs": []
    },
    {
      "cell_type": "markdown",
      "source": [
        "## Etapa 5 - Treinamento do modelo"
      ],
      "metadata": {
        "id": "BbbL-7-__jfD"
      }
    },
    {
      "cell_type": "code",
      "source": [
        "for epochs in range(100):\n",
        "  running_loss = 0. #Váriavel para erro\n",
        "\n",
        "  for data in train_loader:\n",
        "    inputs, labels = data\n",
        "    #print(inputs)\n",
        "    #print('=' * 10)\n",
        "    #print(labels)\n",
        "    optimizer.zero_grad() # Zera os valores acumulados\n",
        "\n",
        "    #Passando os inputs de valores para o classificador para o treinamento\n",
        "    outputs = classificador(inputs) # outputs.forward(inputs)\n",
        "\n",
        "    # Fazendo o cálculo do erro\n",
        "    loss = criterion(outputs, labels)\n",
        "\n",
        "    # Realizando o backpropagation para fazer os ajustes dos pesos\n",
        "    loss.backward()\n",
        "    optimizer.step() #função que vai atualizar os pesos\n",
        "\n",
        "    running_loss += loss.item()\n",
        "\n",
        "  print('Época: {}, Perda: {:.2f}'.format(epochs+1, running_loss/len(train_loader)))"
      ],
      "metadata": {
        "id": "BtMyiX4i_xkq",
        "colab": {
          "base_uri": "https://localhost:8080/"
        },
        "outputId": "a3070ccb-94a7-4dad-9642-a40caf986619"
      },
      "execution_count": 33,
      "outputs": [
        {
          "output_type": "stream",
          "name": "stdout",
          "text": [
            "Época: 1, Perda: 8.24\n",
            "Época: 2, Perda: 2.25\n",
            "Época: 3, Perda: 0.62\n",
            "Época: 4, Perda: 0.60\n",
            "Época: 5, Perda: 0.55\n",
            "Época: 6, Perda: 0.53\n",
            "Época: 7, Perda: 0.51\n",
            "Época: 8, Perda: 0.49\n",
            "Época: 9, Perda: 0.45\n",
            "Época: 10, Perda: 0.45\n",
            "Época: 11, Perda: 0.43\n",
            "Época: 12, Perda: 0.43\n",
            "Época: 13, Perda: 0.44\n",
            "Época: 14, Perda: 0.46\n",
            "Época: 15, Perda: 0.23\n",
            "Época: 16, Perda: 0.20\n",
            "Época: 17, Perda: 0.23\n",
            "Época: 18, Perda: 0.18\n",
            "Época: 19, Perda: 0.18\n",
            "Época: 20, Perda: 0.17\n",
            "Época: 21, Perda: 0.17\n",
            "Época: 22, Perda: 0.17\n",
            "Época: 23, Perda: 0.15\n",
            "Época: 24, Perda: 0.17\n",
            "Época: 25, Perda: 0.17\n",
            "Época: 26, Perda: 0.17\n",
            "Época: 27, Perda: 0.15\n",
            "Época: 28, Perda: 0.18\n",
            "Época: 29, Perda: 0.15\n",
            "Época: 30, Perda: 0.14\n",
            "Época: 31, Perda: 0.14\n",
            "Época: 32, Perda: 0.14\n",
            "Época: 33, Perda: 0.17\n",
            "Época: 34, Perda: 0.15\n",
            "Época: 35, Perda: 0.13\n",
            "Época: 36, Perda: 0.13\n",
            "Época: 37, Perda: 0.14\n",
            "Época: 38, Perda: 0.13\n",
            "Época: 39, Perda: 0.16\n",
            "Época: 40, Perda: 0.18\n",
            "Época: 41, Perda: 0.20\n",
            "Época: 42, Perda: 0.12\n",
            "Época: 43, Perda: 0.13\n",
            "Época: 44, Perda: 0.14\n",
            "Época: 45, Perda: 0.11\n",
            "Época: 46, Perda: 0.13\n",
            "Época: 47, Perda: 0.14\n",
            "Época: 48, Perda: 0.15\n",
            "Época: 49, Perda: 0.14\n",
            "Época: 50, Perda: 0.17\n",
            "Época: 51, Perda: 0.13\n",
            "Época: 52, Perda: 0.12\n",
            "Época: 53, Perda: 0.15\n",
            "Época: 54, Perda: 0.15\n",
            "Época: 55, Perda: 0.17\n",
            "Época: 56, Perda: 0.14\n",
            "Época: 57, Perda: 0.11\n",
            "Época: 58, Perda: 0.14\n",
            "Época: 59, Perda: 0.14\n",
            "Época: 60, Perda: 0.12\n",
            "Época: 61, Perda: 0.16\n",
            "Época: 62, Perda: 0.13\n",
            "Época: 63, Perda: 0.14\n",
            "Época: 64, Perda: 0.12\n",
            "Época: 65, Perda: 0.13\n",
            "Época: 66, Perda: 0.16\n",
            "Época: 67, Perda: 0.12\n",
            "Época: 68, Perda: 0.12\n",
            "Época: 69, Perda: 0.15\n",
            "Época: 70, Perda: 0.11\n",
            "Época: 71, Perda: 0.11\n",
            "Época: 72, Perda: 0.12\n",
            "Época: 73, Perda: 0.14\n",
            "Época: 74, Perda: 0.15\n",
            "Época: 75, Perda: 0.11\n",
            "Época: 76, Perda: 0.10\n",
            "Época: 77, Perda: 0.13\n",
            "Época: 78, Perda: 0.11\n",
            "Época: 79, Perda: 0.12\n",
            "Época: 80, Perda: 0.09\n",
            "Época: 81, Perda: 0.11\n",
            "Época: 82, Perda: 0.16\n",
            "Época: 83, Perda: 0.11\n",
            "Época: 84, Perda: 0.11\n",
            "Época: 85, Perda: 0.12\n",
            "Época: 86, Perda: 0.11\n",
            "Época: 87, Perda: 0.12\n",
            "Época: 88, Perda: 0.10\n",
            "Época: 89, Perda: 0.11\n",
            "Época: 90, Perda: 0.10\n",
            "Época: 91, Perda: 0.11\n",
            "Época: 92, Perda: 0.13\n",
            "Época: 93, Perda: 0.15\n",
            "Época: 94, Perda: 0.13\n",
            "Época: 95, Perda: 0.12\n",
            "Época: 96, Perda: 0.10\n",
            "Época: 97, Perda: 0.10\n",
            "Época: 98, Perda: 0.10\n",
            "Época: 99, Perda: 0.13\n",
            "Época: 100, Perda: 0.12\n"
          ]
        }
      ]
    },
    {
      "cell_type": "markdown",
      "source": [
        "## Etapa 6 - Visualização dos pesos"
      ],
      "metadata": {
        "id": "m4NTkXlG_y3S"
      }
    },
    {
      "cell_type": "code",
      "source": [
        "params = list(classificador.parameters())"
      ],
      "metadata": {
        "id": "l1dDXT2v_246"
      },
      "execution_count": 34,
      "outputs": []
    },
    {
      "cell_type": "code",
      "source": [
        "params"
      ],
      "metadata": {
        "id": "I2vhLmaVRjh-",
        "colab": {
          "base_uri": "https://localhost:8080/"
        },
        "outputId": "a5a4256f-468e-4a5b-c165-997f9893b682"
      },
      "execution_count": 35,
      "outputs": [
        {
          "output_type": "execute_result",
          "data": {
            "text/plain": [
              "[Parameter containing:\n",
              " tensor([[-1.1897e-01, -6.3948e-03, -1.4555e-01, -1.3317e-02, -9.1238e-02,\n",
              "           1.0860e-01, -1.1385e-01, -1.4943e-01, -7.3144e-02,  4.7580e-02,\n",
              "          -7.3649e-02,  5.5899e-02, -1.6089e-01, -1.9197e-01,  2.0716e-03,\n",
              "           1.6666e-02,  2.3580e-02,  9.6848e-02,  5.0796e-03,  3.4736e-03,\n",
              "           1.3320e-01,  2.2000e-02, -6.6034e-03,  9.9357e-02, -4.9319e-02,\n",
              "           9.6047e-03, -2.0450e-01,  1.3164e-02,  9.7061e-02, -1.5757e-01],\n",
              "         [ 1.8827e-01,  1.7736e-01,  2.7506e-01,  9.0943e-02, -5.9313e-02,\n",
              "          -1.6618e-01, -1.6863e-01, -7.9526e-02,  3.4903e-02,  8.9238e-02,\n",
              "          -4.3440e-02, -9.5708e-02, -1.6317e-02,  1.7283e-01, -1.7106e-02,\n",
              "          -1.9069e-01, -1.2830e-01,  2.6053e-01,  5.1815e-01, -1.9761e-02,\n",
              "           9.5743e-02,  4.4320e-02,  1.8615e-01,  1.5282e-02,  1.1328e-01,\n",
              "          -1.0598e-01, -1.4323e-01, -9.0284e-02, -2.2255e-02, -2.1877e-01],\n",
              "         [ 2.1393e-02,  1.0567e-01, -1.4031e-01, -9.4414e-02, -1.2761e-07,\n",
              "          -1.1984e-07, -4.9675e-08, -3.0179e-08, -2.4957e-07, -7.7968e-05,\n",
              "           1.6443e-01,  1.0582e-01, -1.1797e-01, -1.1664e-01, -1.4855e-08,\n",
              "          -4.1395e-07, -2.0279e-08, -2.8573e-08, -6.6496e-08, -1.3454e-08,\n",
              "           6.3533e-02,  3.4229e-03,  3.6428e-02,  7.1459e-03, -6.6816e-02,\n",
              "          -2.9619e-07, -2.2345e-04, -1.0759e-07, -1.4165e-05, -1.0114e-07],\n",
              "         [-2.9056e-01,  9.0846e-03, -7.5146e-02,  1.1063e-01, -5.3345e-02,\n",
              "           4.0015e-02,  1.1811e-01,  1.2819e-01,  5.3500e-02, -1.1535e-01,\n",
              "           1.7612e-01, -1.2654e-01,  3.1616e-02, -5.9474e-02,  1.5621e-03,\n",
              "           4.4174e-03,  3.4977e-02, -5.3795e-02,  5.0430e-02,  1.8046e-03,\n",
              "           9.3425e-02, -1.7853e-01,  6.0500e-04,  1.2446e-02,  1.4154e-02,\n",
              "          -7.9728e-02, -1.6681e-01,  1.0529e-01,  3.7523e-02,  3.4364e-01],\n",
              "         [-3.3302e-01,  2.0567e-02, -4.1956e-02, -1.2368e-01,  9.8089e-02,\n",
              "          -3.5201e-01, -2.8935e-01,  1.2779e-02, -9.4402e-02,  1.1849e-01,\n",
              "          -5.7604e-02,  1.8729e-02, -1.2979e-02,  2.3468e-02,  1.5557e-02,\n",
              "           1.1619e-01,  2.2213e-01, -2.2146e-01, -1.1912e-01,  1.4355e-02,\n",
              "          -2.8941e-02,  6.1239e-02, -9.2632e-02,  2.2294e-01, -5.4215e-03,\n",
              "          -3.3447e-01, -1.2262e-01, -1.5947e-01, -8.7105e-02,  3.8904e-01],\n",
              "         [-5.1039e-02, -3.3128e-02,  6.4205e-02,  1.0103e-01,  1.5121e-02,\n",
              "           3.9535e-01,  2.1725e-01,  1.2683e-01, -1.2400e-02,  4.3809e-01,\n",
              "           2.6046e-01,  1.8166e-01, -1.1052e-01,  1.6433e-01, -4.7315e-04,\n",
              "          -4.0454e-02, -7.8357e-02,  1.9569e-01,  7.7718e-03, -4.7257e-03,\n",
              "           9.8288e-03, -2.3131e-01, -4.4235e-03, -3.7536e-02,  1.9405e-02,\n",
              "          -3.0185e-01, -2.2478e-01,  3.8072e-01,  2.6481e-01, -2.9306e-01],\n",
              "         [ 5.3709e-02,  1.3549e-01,  3.0371e-01, -1.3183e-01, -5.9444e-02,\n",
              "          -4.8874e-01, -9.2923e-02,  7.1510e-02,  2.6458e-01, -1.5715e-01,\n",
              "          -2.2067e-01, -1.3777e-01,  7.6633e-02,  1.2594e-01, -1.1187e-02,\n",
              "          -2.7064e-02,  4.5745e-02, -2.2988e-02,  4.2249e-02, -5.0041e-03,\n",
              "           3.1051e-02,  5.8483e-02,  1.9019e-01, -1.3717e-01, -7.0588e-02,\n",
              "          -4.8186e-02,  1.0106e-01, -1.2022e-01, -8.3755e-02,  2.7300e-02],\n",
              "         [-3.1825e-01,  1.0394e-02, -1.5550e-01, -1.7824e-01,  2.1075e-01,\n",
              "           5.7375e-02, -5.8695e-02, -8.8557e-02,  6.6050e-02, -6.4679e-02,\n",
              "          -1.3149e-01, -1.5708e-01,  7.1017e-02,  1.5456e-01,  1.5627e-02,\n",
              "           1.5372e-01,  1.4260e-02,  3.3643e-02, -1.1644e-01,  1.7019e-02,\n",
              "          -2.2029e-01,  1.3809e-01, -2.8510e-01,  1.2904e-01,  2.5842e-02,\n",
              "          -5.8138e-02,  2.0593e-02,  2.3832e-01, -1.0251e-01,  3.0590e-01],\n",
              "         [ 5.6597e-02, -1.2082e-01, -4.0873e-01, -7.5075e-02,  8.8242e-02,\n",
              "           6.0897e-02, -2.7222e-01, -1.3675e-01, -6.7885e-02, -3.9156e-01,\n",
              "           1.4478e-01, -9.8387e-02,  1.3362e-01, -8.6557e-03,  1.6357e-02,\n",
              "           1.3342e-01,  1.3119e-01, -2.4411e-01, -1.4806e-02,  1.5586e-02,\n",
              "          -3.9369e-01,  9.1631e-02, -2.9025e-01,  2.0350e-01,  1.0233e-01,\n",
              "           1.1886e-01, -3.1927e-02, -1.0170e-01,  1.9223e-01,  4.1119e-01],\n",
              "         [ 5.9377e-03,  1.7366e-01,  3.3083e-01,  2.4009e-02, -4.1160e-02,\n",
              "          -7.5029e-02,  1.1089e-01,  7.8432e-04,  9.8822e-02,  8.8070e-02,\n",
              "           8.2960e-02, -1.4917e-01,  1.6792e-01, -2.9229e-01, -2.4134e-02,\n",
              "          -5.4170e-02, -3.8521e-02,  1.2039e-01,  1.6687e-02, -2.3293e-02,\n",
              "           1.8160e-01, -1.5586e-01,  3.3278e-01, -8.5383e-02,  4.4427e-04,\n",
              "           6.2191e-02,  7.8478e-02,  6.0487e-02,  3.6142e-02, -2.0796e-01],\n",
              "         [ 1.5450e-02, -9.5138e-02,  5.3339e-02,  4.7388e-02, -3.4679e-02,\n",
              "          -1.6944e-01, -1.9001e-01, -1.0942e-01,  2.5057e-01,  2.4485e-02,\n",
              "           1.0698e-02,  3.0673e-02, -1.1143e-01,  1.8234e-01, -7.1194e-04,\n",
              "           1.3726e-03,  1.4150e-02, -1.4038e-01, -2.2855e-01, -1.0878e-03,\n",
              "          -1.6572e-01, -1.9662e-01,  3.9118e-02,  1.2034e-01,  1.0424e-01,\n",
              "           4.6651e-02,  3.6825e-01,  5.3226e-02,  9.3196e-03, -2.1720e-02],\n",
              "         [ 5.1889e-02, -1.1409e-01, -1.8442e-02,  1.4917e-01, -1.1431e-01,\n",
              "           2.0792e-01,  2.3364e-01, -2.2350e-02,  3.5982e-01,  4.4251e-01,\n",
              "           1.0787e-01,  1.0880e-01, -5.4996e-02, -2.0664e-01, -4.0071e-03,\n",
              "          -2.7439e-02, -3.9150e-02,  6.4154e-02,  7.8431e-04, -4.2510e-03,\n",
              "           1.6417e-01, -1.7062e-01,  1.6085e-01, -1.4834e-01, -1.1312e-01,\n",
              "           1.1767e-01, -2.1695e-01,  3.4215e-01, -1.3969e-01, -3.2142e-01],\n",
              "         [ 1.1584e-01,  6.5790e-02, -3.0104e-01, -5.0766e-02,  2.5611e-02,\n",
              "           1.2173e-01,  2.9981e-02,  1.3642e-01, -5.8302e-02, -2.6558e-01,\n",
              "           1.7312e-01, -8.1336e-02,  9.5038e-02,  1.0540e-01,  9.1192e-03,\n",
              "           5.5929e-02,  8.6475e-02, -6.8040e-02, -3.0673e-01,  9.6120e-03,\n",
              "           7.0892e-02,  1.6864e-01, -6.5553e-02,  5.1099e-02, -2.7679e-01,\n",
              "           1.0549e-01, -2.5875e-01, -1.5660e-01,  2.5072e-02,  2.9259e-01],\n",
              "         [ 8.4801e-02, -1.7801e-01, -1.2810e-01,  2.6595e-02,  2.0827e-02,\n",
              "          -7.1855e-02, -6.4002e-02,  9.6115e-02, -1.5953e-01, -1.1627e-01,\n",
              "           1.8083e-01, -1.2080e-01, -1.6046e-01,  1.3199e-01,  8.5698e-04,\n",
              "           2.6936e-02,  4.9336e-02, -2.4443e-01,  6.0545e-03,  2.2751e-03,\n",
              "           1.3300e-01, -1.0513e-01, -1.1502e-01,  1.5098e-01, -1.2901e-01,\n",
              "          -1.2943e-01, -7.5852e-02,  6.0386e-02,  2.2148e-02, -6.8706e-03],\n",
              "         [ 7.9661e-02, -2.3630e-02,  5.9072e-02, -1.5147e-01, -4.9357e-02,\n",
              "          -1.2023e-34,  2.4894e-39, -1.8939e-39, -2.4926e-02,  4.9694e-39,\n",
              "          -1.9404e-08, -1.7037e-02, -2.9760e-02, -7.6799e-02,  4.6528e-39,\n",
              "          -2.4231e-39,  6.2419e-39, -2.2720e-39,  3.2462e-39, -3.1119e-39,\n",
              "           8.6834e-02,  1.0021e-01, -1.2581e-01, -1.9266e-01, -1.1285e-02,\n",
              "          -2.0926e-15,  4.2060e-27,  5.5194e-40, -1.2644e-08, -6.8936e-36],\n",
              "         [-3.8595e-19, -7.8938e-16, -1.7043e-04, -1.3212e-02, -6.3815e-39,\n",
              "           1.8326e-39, -6.3435e-39, -2.8944e-41,  5.0090e-39, -3.0688e-39,\n",
              "          -9.7246e-40, -5.0559e-39,  6.8556e-40, -7.2107e-10,  1.1414e-39,\n",
              "           3.4394e-39, -6.7970e-39,  5.8499e-39, -4.2902e-39,  5.7462e-39,\n",
              "          -9.1192e-18, -1.5589e-13, -2.8476e-04, -1.4435e-02, -2.8596e-39,\n",
              "           3.9628e-39, -6.5899e-39, -5.1520e-39, -2.7621e-39, -3.0538e-40]],\n",
              "        requires_grad=True),\n",
              " Parameter containing:\n",
              " tensor([-3.7846e-02,  2.6573e-01, -2.5166e-04, -1.2609e-01, -5.9348e-01,\n",
              "          1.0339e-01,  2.1346e-01, -3.3440e-01, -4.2385e-01,  5.3711e-01,\n",
              "         -2.5634e-01,  1.1253e-01, -4.0019e-01, -8.1856e-02, -2.8725e-04,\n",
              "         -4.5406e-39], requires_grad=True),\n",
              " Parameter containing:\n",
              " tensor([[-4.2231e-03, -2.5986e-02, -7.8398e-03,  8.9887e-02, -9.8717e-02,\n",
              "           2.5302e-03, -1.7321e-02,  6.0394e-39, -1.7201e-01, -2.0217e-01,\n",
              "          -2.1268e-01,  8.7022e-02,  1.6300e-01,  2.1829e-01,  5.5138e-02,\n",
              "          -2.1995e-39],\n",
              "         [ 6.0930e-02, -2.0148e-01,  1.7068e-02, -4.3447e-02, -6.4413e-03,\n",
              "           1.7163e-01,  5.4474e-39, -1.0806e-39,  4.4742e-02, -1.8578e-01,\n",
              "          -2.2491e-04, -8.4741e-02, -1.5164e-01,  2.3580e-01,  2.3539e-03,\n",
              "          -1.0066e-39],\n",
              "         [ 1.8833e-01, -2.0421e-02,  1.2561e-01,  1.3855e-01,  2.8168e-01,\n",
              "          -7.3564e-02, -6.7761e-02, -7.0630e-02,  2.4558e-01,  6.2637e-02,\n",
              "          -5.1216e-03,  9.8619e-03,  2.3085e-01,  9.3471e-02,  8.6534e-02,\n",
              "          -4.7153e-40],\n",
              "         [-8.2283e-03,  6.7247e-02,  5.9381e-02, -1.8880e-01,  4.2800e-02,\n",
              "           1.8426e-02,  5.8326e-02, -7.1869e-02,  1.9067e-01,  7.0558e-02,\n",
              "          -2.9799e-01,  2.8060e-01,  1.5171e-01,  1.3049e-01,  1.1778e-01,\n",
              "          -1.4590e-40],\n",
              "         [-4.4993e-02,  1.6325e-02, -6.9149e-02, -2.7455e-01, -2.9926e-02,\n",
              "          -2.6900e-01,  4.6771e-02,  2.2233e-01,  4.5471e-02,  3.7107e-02,\n",
              "          -7.4005e-02,  4.5442e-02, -6.3356e-02, -1.0314e-01, -1.2091e-01,\n",
              "          -3.5050e-39],\n",
              "         [ 1.3753e-01, -6.8032e-02, -5.6260e-02, -4.5874e-02, -2.3310e-01,\n",
              "           1.6113e-01, -6.6810e-40,  1.0492e-39, -7.6635e-02,  4.7301e-02,\n",
              "           2.4749e-02,  1.5121e-01, -2.1333e-01, -4.6013e-03,  5.3655e-02,\n",
              "           1.8944e-39],\n",
              "         [-1.3481e-01, -4.2360e-02,  2.7624e-02, -2.6369e-02,  1.1988e-01,\n",
              "           1.4387e-01,  8.1041e-02,  1.2962e-40, -1.4989e-01, -2.6393e-01,\n",
              "           8.2873e-02,  2.3116e-02,  2.0144e-01,  2.3397e-01,  7.2712e-02,\n",
              "          -1.0715e-39],\n",
              "         [ 1.2293e-01,  2.7822e-03,  1.2949e-02, -6.1931e-02, -2.5690e-01,\n",
              "           1.4963e-01, -1.1906e-01, -1.7962e-01, -8.7205e-02,  1.2084e-01,\n",
              "           1.5698e-01, -6.4601e-02, -6.9826e-02, -2.1321e-01,  1.5951e-39,\n",
              "          -2.9095e-39],\n",
              "         [-1.4106e-01,  1.8199e-01, -1.0888e-01, -1.1874e-01,  1.9181e-01,\n",
              "           1.2779e-01,  1.1006e-01, -5.9058e-39, -1.0070e-01, -1.4039e-01,\n",
              "           1.0284e-01,  5.8934e-02, -6.9670e-02,  1.9001e-01, -1.1410e-01,\n",
              "          -1.9665e-39],\n",
              "         [ 1.8376e-01,  1.5637e-01, -1.7725e-01,  8.9045e-02, -1.0369e-01,\n",
              "           1.0383e-01,  2.1690e-01, -2.6301e-01, -1.1483e-01,  2.1337e-01,\n",
              "          -2.3110e-01, -1.0701e-02, -8.8468e-02, -5.3708e-02, -1.1658e-02,\n",
              "          -9.1967e-36],\n",
              "         [ 1.0810e-01, -9.4019e-02,  2.5423e-02, -3.7968e-01, -1.7579e-01,\n",
              "           6.1611e-02,  7.7065e-03, -1.3774e-02, -1.3228e-02, -5.8858e-02,\n",
              "           1.3905e-01,  1.3916e-02,  2.2981e-01,  1.3847e-01,  2.5711e-02,\n",
              "          -3.9502e-39],\n",
              "         [ 1.4291e-01, -1.1378e-02, -1.2004e-01,  1.3116e-01,  7.0419e-03,\n",
              "           2.1911e-01, -2.0028e-39, -7.0472e-39, -2.5641e-01, -8.7108e-02,\n",
              "          -6.9943e-02,  2.0881e-01, -1.0235e-01, -1.5392e-01,  3.2681e-03,\n",
              "          -1.7210e-39],\n",
              "         [-1.5569e-01, -8.3688e-02,  6.2492e-02, -1.7364e-01, -1.6316e-01,\n",
              "          -2.0930e-01,  4.1840e-02,  5.7600e-02,  1.9275e-01, -3.6617e-02,\n",
              "           1.2371e-01,  1.1217e-01,  6.7585e-02, -1.3507e-01, -1.6669e-02,\n",
              "          -5.3553e-39],\n",
              "         [-1.3858e-01,  2.3550e-01,  5.2985e-02, -1.0831e-01, -1.6669e-01,\n",
              "           9.1997e-02, -1.9658e-01, -4.0945e-02, -1.1539e-01,  9.4536e-02,\n",
              "           4.5088e-02,  1.2655e-01, -3.9915e-02,  1.6339e-02, -7.0302e-02,\n",
              "           2.4990e-39],\n",
              "         [-1.3443e-02,  2.1583e-01,  2.3751e-01, -7.4275e-02, -1.4849e-01,\n",
              "          -5.0388e-02, -1.5310e-01,  3.6105e-40, -1.8561e-01, -1.3132e-01,\n",
              "           1.7257e-01,  7.4059e-02, -8.5295e-02, -2.5535e-01,  1.1378e-01,\n",
              "          -1.8118e-39],\n",
              "         [-2.5163e-32, -1.8319e-02, -7.2487e-33, -2.7067e-02, -2.4458e-03,\n",
              "          -2.8112e-04, -1.0973e-02, -1.9277e-02, -2.2118e-02, -2.2892e-02,\n",
              "           2.5991e-05,  7.0410e-04, -2.4060e-02,  6.7604e-39, -5.0867e-39,\n",
              "          -2.7407e-39]], requires_grad=True),\n",
              " Parameter containing:\n",
              " tensor([-6.5876e-02, -8.6591e-02, -7.1734e-01,  4.1697e-01, -2.6810e-01,\n",
              "         -1.0559e-02, -2.4715e-02,  2.0044e-04, -1.9461e-02,  7.2964e-01,\n",
              "          1.6772e-01, -8.7714e-02, -5.0728e-01,  3.7375e-01,  1.7666e-01,\n",
              "          5.2755e-21], requires_grad=True),\n",
              " Parameter containing:\n",
              " tensor([[-0.1038, -0.1172, -0.0987,  0.1278, -0.0035, -0.0423, -0.1807, -0.0391,\n",
              "           0.1399,  0.2926,  0.0621,  0.2260, -0.0685,  0.1828,  0.1361,  0.0252]],\n",
              "        requires_grad=True),\n",
              " Parameter containing:\n",
              " tensor([0.6214], requires_grad=True)]"
            ]
          },
          "metadata": {},
          "execution_count": 35
        }
      ]
    },
    {
      "cell_type": "code",
      "source": [
        "peso0 = params[0]"
      ],
      "metadata": {
        "id": "CvzaqVOfRlcE"
      },
      "execution_count": 36,
      "outputs": []
    },
    {
      "cell_type": "code",
      "source": [
        "peso0.shape"
      ],
      "metadata": {
        "colab": {
          "base_uri": "https://localhost:8080/"
        },
        "id": "cfxouWmqRqVd",
        "outputId": "99ae7935-d6fd-485c-a3f8-26ab92fc84b9"
      },
      "execution_count": 37,
      "outputs": [
        {
          "output_type": "execute_result",
          "data": {
            "text/plain": [
              "torch.Size([16, 30])"
            ]
          },
          "metadata": {},
          "execution_count": 37
        }
      ]
    },
    {
      "cell_type": "code",
      "source": [
        "bias0 = params[1]\n",
        "bias0.shape"
      ],
      "metadata": {
        "colab": {
          "base_uri": "https://localhost:8080/"
        },
        "id": "xYVRHz_ER4ph",
        "outputId": "ebebe245-27e3-4073-9a19-d818f3f74af2"
      },
      "execution_count": 38,
      "outputs": [
        {
          "output_type": "execute_result",
          "data": {
            "text/plain": [
              "torch.Size([16])"
            ]
          },
          "metadata": {},
          "execution_count": 38
        }
      ]
    },
    {
      "cell_type": "markdown",
      "source": [
        "## Etapa 7 - Avaliação do modelo"
      ],
      "metadata": {
        "id": "1Fti0vzH_ojy"
      }
    },
    {
      "cell_type": "code",
      "execution_count": 39,
      "metadata": {
        "id": "DIxHphvp_FnG",
        "colab": {
          "base_uri": "https://localhost:8080/"
        },
        "outputId": "2a6aa889-b0ec-4c37-ac13-6d10aac45204"
      },
      "outputs": [
        {
          "output_type": "execute_result",
          "data": {
            "text/plain": [
              "Sequential(\n",
              "  (0): Linear(in_features=30, out_features=16, bias=True)\n",
              "  (1): ReLU()\n",
              "  (2): Linear(in_features=16, out_features=16, bias=True)\n",
              "  (3): ReLU()\n",
              "  (4): Linear(in_features=16, out_features=1, bias=True)\n",
              "  (5): Sigmoid()\n",
              ")"
            ]
          },
          "metadata": {},
          "execution_count": 39
        }
      ],
      "source": [
        "# MUda o modo para avaliação do modelo\n",
        "classificador.eval()"
      ]
    },
    {
      "cell_type": "code",
      "source": [
        "# Trasnformando os dados de teste de numpy para torch\n",
        "previsores_teste = torch.tensor(np.array(previsores_teste), dtype=torch.float)"
      ],
      "metadata": {
        "id": "t1pd3IvLSo-8"
      },
      "execution_count": 40,
      "outputs": []
    },
    {
      "cell_type": "code",
      "source": [
        "type(previsores_teste)"
      ],
      "metadata": {
        "colab": {
          "base_uri": "https://localhost:8080/"
        },
        "id": "eSxA5kjyTKLO",
        "outputId": "e3d90d46-56bd-4208-96b5-df8166e4414a"
      },
      "execution_count": 41,
      "outputs": [
        {
          "output_type": "execute_result",
          "data": {
            "text/plain": [
              "torch.Tensor"
            ]
          },
          "metadata": {},
          "execution_count": 41
        }
      ]
    },
    {
      "cell_type": "code",
      "source": [
        "# Passa os registros pela rede neural\n",
        "previsoes = classificador.forward(previsores_teste)"
      ],
      "metadata": {
        "id": "ysEhkz6rTMT2"
      },
      "execution_count": 42,
      "outputs": []
    },
    {
      "cell_type": "code",
      "source": [
        "previsores"
      ],
      "metadata": {
        "colab": {
          "base_uri": "https://localhost:8080/",
          "height": 444
        },
        "id": "J8_tS_4gTfHt",
        "outputId": "ba2ab97f-2ef3-4ed5-b992-b06468314e87"
      },
      "execution_count": 43,
      "outputs": [
        {
          "output_type": "execute_result",
          "data": {
            "text/plain": [
              "      radius_mean   texture_mean   perimeter_mean   area_mean  \\\n",
              "0           17.99          10.38           122.80      1001.0   \n",
              "1           20.57          17.77           132.90      1326.0   \n",
              "2           19.69          21.25           130.00      1203.0   \n",
              "3           11.42          20.38            77.58       386.1   \n",
              "4           20.29          14.34           135.10      1297.0   \n",
              "..            ...            ...              ...         ...   \n",
              "564         21.56          22.39           142.00      1479.0   \n",
              "565         20.13          28.25           131.20      1261.0   \n",
              "566         16.60          28.08           108.30       858.1   \n",
              "567         20.60          29.33           140.10      1265.0   \n",
              "568          7.76          24.54            47.92       181.0   \n",
              "\n",
              "      smoothness_mean   compactness_mean   concavity_mean  \\\n",
              "0             0.11840            0.27760          0.30010   \n",
              "1             0.08474            0.07864          0.08690   \n",
              "2             0.10960            0.15990          0.19740   \n",
              "3             0.14250            0.28390          0.24140   \n",
              "4             0.10030            0.13280        198.00000   \n",
              "..                ...                ...              ...   \n",
              "564         111.00000            0.11590          0.24390   \n",
              "565           0.09780            0.10340        144.00000   \n",
              "566           0.08455            0.10230          0.09251   \n",
              "567           0.11780          277.00000          0.35140   \n",
              "568           0.05263            0.04362          0.00000   \n",
              "\n",
              "     concave_points_mean   symmetry_mean   fractal_dimension_mean  ...  \\\n",
              "0                0.14710          0.2419                  0.07871  ...   \n",
              "1                0.07017          0.1812                  0.05667  ...   \n",
              "2                0.12790          0.2069                  0.05999  ...   \n",
              "3                0.10520          0.2597                  0.09744  ...   \n",
              "4                0.10430          0.1809                  0.05883  ...   \n",
              "..                   ...             ...                      ...  ...   \n",
              "564              0.13890          0.1726                  0.05623  ...   \n",
              "565              0.09791          0.1752                  0.05533  ...   \n",
              "566              0.05302        159.0000                  0.05648  ...   \n",
              "567            152.00000          0.2397                  0.07016  ...   \n",
              "568              0.00000          0.1587                  0.05884  ...   \n",
              "\n",
              "      radius_worst   texture_worst   perimeter_worst   area_worst  \\\n",
              "0            25.38           17.33            184.60       2019.0   \n",
              "1            24.99           23.41            158.80       1956.0   \n",
              "2            23.57           25.53            152.50       1709.0   \n",
              "3            14.91           26.50             98.87        567.7   \n",
              "4            22.54           16.67            152.20       1575.0   \n",
              "..             ...             ...               ...          ...   \n",
              "564          25.45           26.40            166.10       2027.0   \n",
              "565          23.69           38.25            155.00       1731.0   \n",
              "566          18.98           34.12            126.70       1124.0   \n",
              "567          25.74           39.42            184.60       1821.0   \n",
              "568        9456.00           30.37             59.16        268.6   \n",
              "\n",
              "      smoothness_worst   compactness_worst   concavity_worst  \\\n",
              "0              0.16220             0.66560            0.7119   \n",
              "1              0.12380             0.18660            0.2416   \n",
              "2              0.14440             0.42450            0.4504   \n",
              "3              0.20980             0.86630            0.6869   \n",
              "4              0.13740           205.00000            0.4000   \n",
              "..                 ...                 ...               ...   \n",
              "564          141.00000             0.21130            0.4107   \n",
              "565            0.11660             0.19220            0.3215   \n",
              "566            0.11390             0.30940            0.3403   \n",
              "567          165.00000             0.86810            0.9387   \n",
              "568            0.08996             0.06444            0.0000   \n",
              "\n",
              "      concave_points_worst   symmetry_worst   fractal_dimension_worst  \n",
              "0                   0.2654           0.4601                   0.11890  \n",
              "1                 186.0000         275.0000                   0.08902  \n",
              "2                 243.0000           0.3613                   0.08758  \n",
              "3                   0.2575           0.6638                 173.00000  \n",
              "4                   0.1625           0.2364                   0.07678  \n",
              "..                     ...              ...                       ...  \n",
              "564                 0.2216         206.0000                   0.07115  \n",
              "565                 0.1628           0.2572                   0.06637  \n",
              "566                 0.1418           0.2218                   0.07820  \n",
              "567               265.0000           0.4087                 124.00000  \n",
              "568                 0.0000           0.2871                   0.07039  \n",
              "\n",
              "[569 rows x 30 columns]"
            ],
            "text/html": [
              "\n",
              "  <div id=\"df-0c421756-96c2-49b9-822c-0be70780ae2c\" class=\"colab-df-container\">\n",
              "    <div>\n",
              "<style scoped>\n",
              "    .dataframe tbody tr th:only-of-type {\n",
              "        vertical-align: middle;\n",
              "    }\n",
              "\n",
              "    .dataframe tbody tr th {\n",
              "        vertical-align: top;\n",
              "    }\n",
              "\n",
              "    .dataframe thead th {\n",
              "        text-align: right;\n",
              "    }\n",
              "</style>\n",
              "<table border=\"1\" class=\"dataframe\">\n",
              "  <thead>\n",
              "    <tr style=\"text-align: right;\">\n",
              "      <th></th>\n",
              "      <th>radius_mean</th>\n",
              "      <th>texture_mean</th>\n",
              "      <th>perimeter_mean</th>\n",
              "      <th>area_mean</th>\n",
              "      <th>smoothness_mean</th>\n",
              "      <th>compactness_mean</th>\n",
              "      <th>concavity_mean</th>\n",
              "      <th>concave_points_mean</th>\n",
              "      <th>symmetry_mean</th>\n",
              "      <th>fractal_dimension_mean</th>\n",
              "      <th>...</th>\n",
              "      <th>radius_worst</th>\n",
              "      <th>texture_worst</th>\n",
              "      <th>perimeter_worst</th>\n",
              "      <th>area_worst</th>\n",
              "      <th>smoothness_worst</th>\n",
              "      <th>compactness_worst</th>\n",
              "      <th>concavity_worst</th>\n",
              "      <th>concave_points_worst</th>\n",
              "      <th>symmetry_worst</th>\n",
              "      <th>fractal_dimension_worst</th>\n",
              "    </tr>\n",
              "  </thead>\n",
              "  <tbody>\n",
              "    <tr>\n",
              "      <th>0</th>\n",
              "      <td>17.99</td>\n",
              "      <td>10.38</td>\n",
              "      <td>122.80</td>\n",
              "      <td>1001.0</td>\n",
              "      <td>0.11840</td>\n",
              "      <td>0.27760</td>\n",
              "      <td>0.30010</td>\n",
              "      <td>0.14710</td>\n",
              "      <td>0.2419</td>\n",
              "      <td>0.07871</td>\n",
              "      <td>...</td>\n",
              "      <td>25.38</td>\n",
              "      <td>17.33</td>\n",
              "      <td>184.60</td>\n",
              "      <td>2019.0</td>\n",
              "      <td>0.16220</td>\n",
              "      <td>0.66560</td>\n",
              "      <td>0.7119</td>\n",
              "      <td>0.2654</td>\n",
              "      <td>0.4601</td>\n",
              "      <td>0.11890</td>\n",
              "    </tr>\n",
              "    <tr>\n",
              "      <th>1</th>\n",
              "      <td>20.57</td>\n",
              "      <td>17.77</td>\n",
              "      <td>132.90</td>\n",
              "      <td>1326.0</td>\n",
              "      <td>0.08474</td>\n",
              "      <td>0.07864</td>\n",
              "      <td>0.08690</td>\n",
              "      <td>0.07017</td>\n",
              "      <td>0.1812</td>\n",
              "      <td>0.05667</td>\n",
              "      <td>...</td>\n",
              "      <td>24.99</td>\n",
              "      <td>23.41</td>\n",
              "      <td>158.80</td>\n",
              "      <td>1956.0</td>\n",
              "      <td>0.12380</td>\n",
              "      <td>0.18660</td>\n",
              "      <td>0.2416</td>\n",
              "      <td>186.0000</td>\n",
              "      <td>275.0000</td>\n",
              "      <td>0.08902</td>\n",
              "    </tr>\n",
              "    <tr>\n",
              "      <th>2</th>\n",
              "      <td>19.69</td>\n",
              "      <td>21.25</td>\n",
              "      <td>130.00</td>\n",
              "      <td>1203.0</td>\n",
              "      <td>0.10960</td>\n",
              "      <td>0.15990</td>\n",
              "      <td>0.19740</td>\n",
              "      <td>0.12790</td>\n",
              "      <td>0.2069</td>\n",
              "      <td>0.05999</td>\n",
              "      <td>...</td>\n",
              "      <td>23.57</td>\n",
              "      <td>25.53</td>\n",
              "      <td>152.50</td>\n",
              "      <td>1709.0</td>\n",
              "      <td>0.14440</td>\n",
              "      <td>0.42450</td>\n",
              "      <td>0.4504</td>\n",
              "      <td>243.0000</td>\n",
              "      <td>0.3613</td>\n",
              "      <td>0.08758</td>\n",
              "    </tr>\n",
              "    <tr>\n",
              "      <th>3</th>\n",
              "      <td>11.42</td>\n",
              "      <td>20.38</td>\n",
              "      <td>77.58</td>\n",
              "      <td>386.1</td>\n",
              "      <td>0.14250</td>\n",
              "      <td>0.28390</td>\n",
              "      <td>0.24140</td>\n",
              "      <td>0.10520</td>\n",
              "      <td>0.2597</td>\n",
              "      <td>0.09744</td>\n",
              "      <td>...</td>\n",
              "      <td>14.91</td>\n",
              "      <td>26.50</td>\n",
              "      <td>98.87</td>\n",
              "      <td>567.7</td>\n",
              "      <td>0.20980</td>\n",
              "      <td>0.86630</td>\n",
              "      <td>0.6869</td>\n",
              "      <td>0.2575</td>\n",
              "      <td>0.6638</td>\n",
              "      <td>173.00000</td>\n",
              "    </tr>\n",
              "    <tr>\n",
              "      <th>4</th>\n",
              "      <td>20.29</td>\n",
              "      <td>14.34</td>\n",
              "      <td>135.10</td>\n",
              "      <td>1297.0</td>\n",
              "      <td>0.10030</td>\n",
              "      <td>0.13280</td>\n",
              "      <td>198.00000</td>\n",
              "      <td>0.10430</td>\n",
              "      <td>0.1809</td>\n",
              "      <td>0.05883</td>\n",
              "      <td>...</td>\n",
              "      <td>22.54</td>\n",
              "      <td>16.67</td>\n",
              "      <td>152.20</td>\n",
              "      <td>1575.0</td>\n",
              "      <td>0.13740</td>\n",
              "      <td>205.00000</td>\n",
              "      <td>0.4000</td>\n",
              "      <td>0.1625</td>\n",
              "      <td>0.2364</td>\n",
              "      <td>0.07678</td>\n",
              "    </tr>\n",
              "    <tr>\n",
              "      <th>...</th>\n",
              "      <td>...</td>\n",
              "      <td>...</td>\n",
              "      <td>...</td>\n",
              "      <td>...</td>\n",
              "      <td>...</td>\n",
              "      <td>...</td>\n",
              "      <td>...</td>\n",
              "      <td>...</td>\n",
              "      <td>...</td>\n",
              "      <td>...</td>\n",
              "      <td>...</td>\n",
              "      <td>...</td>\n",
              "      <td>...</td>\n",
              "      <td>...</td>\n",
              "      <td>...</td>\n",
              "      <td>...</td>\n",
              "      <td>...</td>\n",
              "      <td>...</td>\n",
              "      <td>...</td>\n",
              "      <td>...</td>\n",
              "      <td>...</td>\n",
              "    </tr>\n",
              "    <tr>\n",
              "      <th>564</th>\n",
              "      <td>21.56</td>\n",
              "      <td>22.39</td>\n",
              "      <td>142.00</td>\n",
              "      <td>1479.0</td>\n",
              "      <td>111.00000</td>\n",
              "      <td>0.11590</td>\n",
              "      <td>0.24390</td>\n",
              "      <td>0.13890</td>\n",
              "      <td>0.1726</td>\n",
              "      <td>0.05623</td>\n",
              "      <td>...</td>\n",
              "      <td>25.45</td>\n",
              "      <td>26.40</td>\n",
              "      <td>166.10</td>\n",
              "      <td>2027.0</td>\n",
              "      <td>141.00000</td>\n",
              "      <td>0.21130</td>\n",
              "      <td>0.4107</td>\n",
              "      <td>0.2216</td>\n",
              "      <td>206.0000</td>\n",
              "      <td>0.07115</td>\n",
              "    </tr>\n",
              "    <tr>\n",
              "      <th>565</th>\n",
              "      <td>20.13</td>\n",
              "      <td>28.25</td>\n",
              "      <td>131.20</td>\n",
              "      <td>1261.0</td>\n",
              "      <td>0.09780</td>\n",
              "      <td>0.10340</td>\n",
              "      <td>144.00000</td>\n",
              "      <td>0.09791</td>\n",
              "      <td>0.1752</td>\n",
              "      <td>0.05533</td>\n",
              "      <td>...</td>\n",
              "      <td>23.69</td>\n",
              "      <td>38.25</td>\n",
              "      <td>155.00</td>\n",
              "      <td>1731.0</td>\n",
              "      <td>0.11660</td>\n",
              "      <td>0.19220</td>\n",
              "      <td>0.3215</td>\n",
              "      <td>0.1628</td>\n",
              "      <td>0.2572</td>\n",
              "      <td>0.06637</td>\n",
              "    </tr>\n",
              "    <tr>\n",
              "      <th>566</th>\n",
              "      <td>16.60</td>\n",
              "      <td>28.08</td>\n",
              "      <td>108.30</td>\n",
              "      <td>858.1</td>\n",
              "      <td>0.08455</td>\n",
              "      <td>0.10230</td>\n",
              "      <td>0.09251</td>\n",
              "      <td>0.05302</td>\n",
              "      <td>159.0000</td>\n",
              "      <td>0.05648</td>\n",
              "      <td>...</td>\n",
              "      <td>18.98</td>\n",
              "      <td>34.12</td>\n",
              "      <td>126.70</td>\n",
              "      <td>1124.0</td>\n",
              "      <td>0.11390</td>\n",
              "      <td>0.30940</td>\n",
              "      <td>0.3403</td>\n",
              "      <td>0.1418</td>\n",
              "      <td>0.2218</td>\n",
              "      <td>0.07820</td>\n",
              "    </tr>\n",
              "    <tr>\n",
              "      <th>567</th>\n",
              "      <td>20.60</td>\n",
              "      <td>29.33</td>\n",
              "      <td>140.10</td>\n",
              "      <td>1265.0</td>\n",
              "      <td>0.11780</td>\n",
              "      <td>277.00000</td>\n",
              "      <td>0.35140</td>\n",
              "      <td>152.00000</td>\n",
              "      <td>0.2397</td>\n",
              "      <td>0.07016</td>\n",
              "      <td>...</td>\n",
              "      <td>25.74</td>\n",
              "      <td>39.42</td>\n",
              "      <td>184.60</td>\n",
              "      <td>1821.0</td>\n",
              "      <td>165.00000</td>\n",
              "      <td>0.86810</td>\n",
              "      <td>0.9387</td>\n",
              "      <td>265.0000</td>\n",
              "      <td>0.4087</td>\n",
              "      <td>124.00000</td>\n",
              "    </tr>\n",
              "    <tr>\n",
              "      <th>568</th>\n",
              "      <td>7.76</td>\n",
              "      <td>24.54</td>\n",
              "      <td>47.92</td>\n",
              "      <td>181.0</td>\n",
              "      <td>0.05263</td>\n",
              "      <td>0.04362</td>\n",
              "      <td>0.00000</td>\n",
              "      <td>0.00000</td>\n",
              "      <td>0.1587</td>\n",
              "      <td>0.05884</td>\n",
              "      <td>...</td>\n",
              "      <td>9456.00</td>\n",
              "      <td>30.37</td>\n",
              "      <td>59.16</td>\n",
              "      <td>268.6</td>\n",
              "      <td>0.08996</td>\n",
              "      <td>0.06444</td>\n",
              "      <td>0.0000</td>\n",
              "      <td>0.0000</td>\n",
              "      <td>0.2871</td>\n",
              "      <td>0.07039</td>\n",
              "    </tr>\n",
              "  </tbody>\n",
              "</table>\n",
              "<p>569 rows × 30 columns</p>\n",
              "</div>\n",
              "    <div class=\"colab-df-buttons\">\n",
              "\n",
              "  <div class=\"colab-df-container\">\n",
              "    <button class=\"colab-df-convert\" onclick=\"convertToInteractive('df-0c421756-96c2-49b9-822c-0be70780ae2c')\"\n",
              "            title=\"Convert this dataframe to an interactive table.\"\n",
              "            style=\"display:none;\">\n",
              "\n",
              "  <svg xmlns=\"http://www.w3.org/2000/svg\" height=\"24px\" viewBox=\"0 -960 960 960\">\n",
              "    <path d=\"M120-120v-720h720v720H120Zm60-500h600v-160H180v160Zm220 220h160v-160H400v160Zm0 220h160v-160H400v160ZM180-400h160v-160H180v160Zm440 0h160v-160H620v160ZM180-180h160v-160H180v160Zm440 0h160v-160H620v160Z\"/>\n",
              "  </svg>\n",
              "    </button>\n",
              "\n",
              "  <style>\n",
              "    .colab-df-container {\n",
              "      display:flex;\n",
              "      gap: 12px;\n",
              "    }\n",
              "\n",
              "    .colab-df-convert {\n",
              "      background-color: #E8F0FE;\n",
              "      border: none;\n",
              "      border-radius: 50%;\n",
              "      cursor: pointer;\n",
              "      display: none;\n",
              "      fill: #1967D2;\n",
              "      height: 32px;\n",
              "      padding: 0 0 0 0;\n",
              "      width: 32px;\n",
              "    }\n",
              "\n",
              "    .colab-df-convert:hover {\n",
              "      background-color: #E2EBFA;\n",
              "      box-shadow: 0px 1px 2px rgba(60, 64, 67, 0.3), 0px 1px 3px 1px rgba(60, 64, 67, 0.15);\n",
              "      fill: #174EA6;\n",
              "    }\n",
              "\n",
              "    .colab-df-buttons div {\n",
              "      margin-bottom: 4px;\n",
              "    }\n",
              "\n",
              "    [theme=dark] .colab-df-convert {\n",
              "      background-color: #3B4455;\n",
              "      fill: #D2E3FC;\n",
              "    }\n",
              "\n",
              "    [theme=dark] .colab-df-convert:hover {\n",
              "      background-color: #434B5C;\n",
              "      box-shadow: 0px 1px 3px 1px rgba(0, 0, 0, 0.15);\n",
              "      filter: drop-shadow(0px 1px 2px rgba(0, 0, 0, 0.3));\n",
              "      fill: #FFFFFF;\n",
              "    }\n",
              "  </style>\n",
              "\n",
              "    <script>\n",
              "      const buttonEl =\n",
              "        document.querySelector('#df-0c421756-96c2-49b9-822c-0be70780ae2c button.colab-df-convert');\n",
              "      buttonEl.style.display =\n",
              "        google.colab.kernel.accessAllowed ? 'block' : 'none';\n",
              "\n",
              "      async function convertToInteractive(key) {\n",
              "        const element = document.querySelector('#df-0c421756-96c2-49b9-822c-0be70780ae2c');\n",
              "        const dataTable =\n",
              "          await google.colab.kernel.invokeFunction('convertToInteractive',\n",
              "                                                    [key], {});\n",
              "        if (!dataTable) return;\n",
              "\n",
              "        const docLinkHtml = 'Like what you see? Visit the ' +\n",
              "          '<a target=\"_blank\" href=https://colab.research.google.com/notebooks/data_table.ipynb>data table notebook</a>'\n",
              "          + ' to learn more about interactive tables.';\n",
              "        element.innerHTML = '';\n",
              "        dataTable['output_type'] = 'display_data';\n",
              "        await google.colab.output.renderOutput(dataTable, element);\n",
              "        const docLink = document.createElement('div');\n",
              "        docLink.innerHTML = docLinkHtml;\n",
              "        element.appendChild(docLink);\n",
              "      }\n",
              "    </script>\n",
              "  </div>\n",
              "\n",
              "\n",
              "<div id=\"df-731ad1d6-a1a4-4ce0-9da9-3381a05dd7b1\">\n",
              "  <button class=\"colab-df-quickchart\" onclick=\"quickchart('df-731ad1d6-a1a4-4ce0-9da9-3381a05dd7b1')\"\n",
              "            title=\"Suggest charts.\"\n",
              "            style=\"display:none;\">\n",
              "\n",
              "<svg xmlns=\"http://www.w3.org/2000/svg\" height=\"24px\"viewBox=\"0 0 24 24\"\n",
              "     width=\"24px\">\n",
              "    <g>\n",
              "        <path d=\"M19 3H5c-1.1 0-2 .9-2 2v14c0 1.1.9 2 2 2h14c1.1 0 2-.9 2-2V5c0-1.1-.9-2-2-2zM9 17H7v-7h2v7zm4 0h-2V7h2v10zm4 0h-2v-4h2v4z\"/>\n",
              "    </g>\n",
              "</svg>\n",
              "  </button>\n",
              "\n",
              "<style>\n",
              "  .colab-df-quickchart {\n",
              "      --bg-color: #E8F0FE;\n",
              "      --fill-color: #1967D2;\n",
              "      --hover-bg-color: #E2EBFA;\n",
              "      --hover-fill-color: #174EA6;\n",
              "      --disabled-fill-color: #AAA;\n",
              "      --disabled-bg-color: #DDD;\n",
              "  }\n",
              "\n",
              "  [theme=dark] .colab-df-quickchart {\n",
              "      --bg-color: #3B4455;\n",
              "      --fill-color: #D2E3FC;\n",
              "      --hover-bg-color: #434B5C;\n",
              "      --hover-fill-color: #FFFFFF;\n",
              "      --disabled-bg-color: #3B4455;\n",
              "      --disabled-fill-color: #666;\n",
              "  }\n",
              "\n",
              "  .colab-df-quickchart {\n",
              "    background-color: var(--bg-color);\n",
              "    border: none;\n",
              "    border-radius: 50%;\n",
              "    cursor: pointer;\n",
              "    display: none;\n",
              "    fill: var(--fill-color);\n",
              "    height: 32px;\n",
              "    padding: 0;\n",
              "    width: 32px;\n",
              "  }\n",
              "\n",
              "  .colab-df-quickchart:hover {\n",
              "    background-color: var(--hover-bg-color);\n",
              "    box-shadow: 0 1px 2px rgba(60, 64, 67, 0.3), 0 1px 3px 1px rgba(60, 64, 67, 0.15);\n",
              "    fill: var(--button-hover-fill-color);\n",
              "  }\n",
              "\n",
              "  .colab-df-quickchart-complete:disabled,\n",
              "  .colab-df-quickchart-complete:disabled:hover {\n",
              "    background-color: var(--disabled-bg-color);\n",
              "    fill: var(--disabled-fill-color);\n",
              "    box-shadow: none;\n",
              "  }\n",
              "\n",
              "  .colab-df-spinner {\n",
              "    border: 2px solid var(--fill-color);\n",
              "    border-color: transparent;\n",
              "    border-bottom-color: var(--fill-color);\n",
              "    animation:\n",
              "      spin 1s steps(1) infinite;\n",
              "  }\n",
              "\n",
              "  @keyframes spin {\n",
              "    0% {\n",
              "      border-color: transparent;\n",
              "      border-bottom-color: var(--fill-color);\n",
              "      border-left-color: var(--fill-color);\n",
              "    }\n",
              "    20% {\n",
              "      border-color: transparent;\n",
              "      border-left-color: var(--fill-color);\n",
              "      border-top-color: var(--fill-color);\n",
              "    }\n",
              "    30% {\n",
              "      border-color: transparent;\n",
              "      border-left-color: var(--fill-color);\n",
              "      border-top-color: var(--fill-color);\n",
              "      border-right-color: var(--fill-color);\n",
              "    }\n",
              "    40% {\n",
              "      border-color: transparent;\n",
              "      border-right-color: var(--fill-color);\n",
              "      border-top-color: var(--fill-color);\n",
              "    }\n",
              "    60% {\n",
              "      border-color: transparent;\n",
              "      border-right-color: var(--fill-color);\n",
              "    }\n",
              "    80% {\n",
              "      border-color: transparent;\n",
              "      border-right-color: var(--fill-color);\n",
              "      border-bottom-color: var(--fill-color);\n",
              "    }\n",
              "    90% {\n",
              "      border-color: transparent;\n",
              "      border-bottom-color: var(--fill-color);\n",
              "    }\n",
              "  }\n",
              "</style>\n",
              "\n",
              "  <script>\n",
              "    async function quickchart(key) {\n",
              "      const quickchartButtonEl =\n",
              "        document.querySelector('#' + key + ' button');\n",
              "      quickchartButtonEl.disabled = true;  // To prevent multiple clicks.\n",
              "      quickchartButtonEl.classList.add('colab-df-spinner');\n",
              "      try {\n",
              "        const charts = await google.colab.kernel.invokeFunction(\n",
              "            'suggestCharts', [key], {});\n",
              "      } catch (error) {\n",
              "        console.error('Error during call to suggestCharts:', error);\n",
              "      }\n",
              "      quickchartButtonEl.classList.remove('colab-df-spinner');\n",
              "      quickchartButtonEl.classList.add('colab-df-quickchart-complete');\n",
              "    }\n",
              "    (() => {\n",
              "      let quickchartButtonEl =\n",
              "        document.querySelector('#df-731ad1d6-a1a4-4ce0-9da9-3381a05dd7b1 button');\n",
              "      quickchartButtonEl.style.display =\n",
              "        google.colab.kernel.accessAllowed ? 'block' : 'none';\n",
              "    })();\n",
              "  </script>\n",
              "</div>\n",
              "    </div>\n",
              "  </div>\n"
            ]
          },
          "metadata": {},
          "execution_count": 43
        }
      ]
    },
    {
      "cell_type": "code",
      "source": [
        "# Definindo o limiar da classificação\n",
        "previsoes = np.array(previsoes >= 0.5)\n",
        "previsoes"
      ],
      "metadata": {
        "id": "7_n7UUrqTfZJ",
        "colab": {
          "base_uri": "https://localhost:8080/"
        },
        "outputId": "16d2f011-a2f8-42fe-f2f7-c44cd08cc9d6"
      },
      "execution_count": 44,
      "outputs": [
        {
          "output_type": "execute_result",
          "data": {
            "text/plain": [
              "array([[ True],\n",
              "       [ True],\n",
              "       [ True],\n",
              "       [ True],\n",
              "       [False],\n",
              "       [ True],\n",
              "       [False],\n",
              "       [False],\n",
              "       [ True],\n",
              "       [ True],\n",
              "       [ True],\n",
              "       [ True],\n",
              "       [ True],\n",
              "       [False],\n",
              "       [False],\n",
              "       [ True],\n",
              "       [ True],\n",
              "       [False],\n",
              "       [ True],\n",
              "       [ True],\n",
              "       [False],\n",
              "       [False],\n",
              "       [False],\n",
              "       [ True],\n",
              "       [False],\n",
              "       [ True],\n",
              "       [False],\n",
              "       [ True],\n",
              "       [ True],\n",
              "       [ True],\n",
              "       [ True],\n",
              "       [ True],\n",
              "       [ True],\n",
              "       [ True],\n",
              "       [False],\n",
              "       [False],\n",
              "       [ True],\n",
              "       [False],\n",
              "       [False],\n",
              "       [False],\n",
              "       [False],\n",
              "       [ True],\n",
              "       [ True],\n",
              "       [ True],\n",
              "       [False],\n",
              "       [ True],\n",
              "       [ True],\n",
              "       [False],\n",
              "       [False],\n",
              "       [ True],\n",
              "       [False],\n",
              "       [False],\n",
              "       [ True],\n",
              "       [ True],\n",
              "       [ True],\n",
              "       [ True],\n",
              "       [ True],\n",
              "       [False],\n",
              "       [ True],\n",
              "       [ True],\n",
              "       [False],\n",
              "       [ True],\n",
              "       [ True],\n",
              "       [ True],\n",
              "       [ True],\n",
              "       [ True],\n",
              "       [False],\n",
              "       [ True],\n",
              "       [False],\n",
              "       [ True],\n",
              "       [False],\n",
              "       [False],\n",
              "       [ True],\n",
              "       [False],\n",
              "       [ True],\n",
              "       [ True],\n",
              "       [ True],\n",
              "       [False],\n",
              "       [ True],\n",
              "       [ True],\n",
              "       [ True],\n",
              "       [False],\n",
              "       [ True],\n",
              "       [ True],\n",
              "       [False],\n",
              "       [ True],\n",
              "       [ True],\n",
              "       [False],\n",
              "       [ True],\n",
              "       [ True],\n",
              "       [ True],\n",
              "       [False],\n",
              "       [ True],\n",
              "       [False],\n",
              "       [False],\n",
              "       [ True],\n",
              "       [ True],\n",
              "       [ True],\n",
              "       [ True],\n",
              "       [ True],\n",
              "       [False],\n",
              "       [False],\n",
              "       [ True],\n",
              "       [ True],\n",
              "       [ True],\n",
              "       [ True],\n",
              "       [ True],\n",
              "       [ True],\n",
              "       [False],\n",
              "       [False],\n",
              "       [False],\n",
              "       [ True],\n",
              "       [False],\n",
              "       [ True]])"
            ]
          },
          "metadata": {},
          "execution_count": 44
        }
      ]
    },
    {
      "cell_type": "code",
      "source": [
        "acertividade = accuracy_score(classe_teste, previsoes)"
      ],
      "metadata": {
        "id": "uZfEGXTDTfhs"
      },
      "execution_count": 45,
      "outputs": []
    },
    {
      "cell_type": "code",
      "source": [
        "acertividade"
      ],
      "metadata": {
        "colab": {
          "base_uri": "https://localhost:8080/"
        },
        "id": "pKr2SS8qUZWO",
        "outputId": "59d5fbed-3978-4697-a753-e0384fe52ab4"
      },
      "execution_count": 46,
      "outputs": [
        {
          "output_type": "execute_result",
          "data": {
            "text/plain": [
              "0.8070175438596491"
            ]
          },
          "metadata": {},
          "execution_count": 46
        }
      ]
    },
    {
      "cell_type": "code",
      "source": [
        "# Visualizando a a matriz de confusão\n",
        "matriz = confusion_matrix(classe_teste, previsoes)\n",
        "matriz"
      ],
      "metadata": {
        "colab": {
          "base_uri": "https://localhost:8080/"
        },
        "id": "VK7HVsDCUhsB",
        "outputId": "d54653fa-f391-465f-cd21-f9d60afc91d7"
      },
      "execution_count": 47,
      "outputs": [
        {
          "output_type": "execute_result",
          "data": {
            "text/plain": [
              "array([[35, 15],\n",
              "       [ 7, 57]])"
            ]
          },
          "metadata": {},
          "execution_count": 47
        }
      ]
    },
    {
      "cell_type": "code",
      "source": [
        "# Matriz em gráfico\n",
        "sns.heatmap(matriz, annot=True)"
      ],
      "metadata": {
        "colab": {
          "base_uri": "https://localhost:8080/",
          "height": 447
        },
        "id": "FVh3cREXUywj",
        "outputId": "70843db0-9a94-475b-8050-b36a3aefb58b"
      },
      "execution_count": 48,
      "outputs": [
        {
          "output_type": "execute_result",
          "data": {
            "text/plain": [
              "<Axes: >"
            ]
          },
          "metadata": {},
          "execution_count": 48
        },
        {
          "output_type": "display_data",
          "data": {
            "text/plain": [
              "<Figure size 640x480 with 2 Axes>"
            ],
            "image/png": "[encoded data removed]"
          },
          "metadata": {}
        }
      ]
    }
  ]
}